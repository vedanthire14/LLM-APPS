{
  "cells": [
    {
      "cell_type": "code",
      "execution_count": null,
      "metadata": {
        "id": "v6Yjfe3rwIvs"
      },
      "outputs": [],
      "source": [
        "!pip install -r requirements.txt"
      ]
    },
    {
      "cell_type": "code",
      "execution_count": null,
      "metadata": {
        "id": "wIkiUrU5lh1X"
      },
      "outputs": [],
      "source": [
        "import os\n",
        "os.environ['OPENAI_API_KEY'] = ''"
      ]
    },
    {
      "cell_type": "code",
      "execution_count": null,
      "metadata": {
        "id": "850n0bK-H6AB"
      },
      "outputs": [],
      "source": [
        "!pip install langchain --upgrade"
      ]
    },
    {
      "cell_type": "code",
      "execution_count": null,
      "metadata": {
        "id": "8-ZixdQ-xS0s"
      },
      "outputs": [],
      "source": [
        "!pip install openai --upgrade"
      ]
    },
    {
      "cell_type": "code",
      "execution_count": null,
      "metadata": {
        "id": "3s6FtO-0SCks"
      },
      "outputs": [],
      "source": [
        "# from langchain import OpenAI\n",
        "from langchain.chat_models import ChatOpenAI\n",
        "from langchain.chains.conversation.memory import ConversationBufferWindowMemory\n",
        "from langchain.tools import BaseTool\n",
        "from langchain.agents import Tool\n",
        "from langchain.agents import initialize_agent\n",
        "from langchain_core.output_parsers import StrOutputParser"
      ]
    },
    {
      "cell_type": "code",
      "execution_count": null,
      "metadata": {
        "id": "kHmd7jwDlnm6"
      },
      "outputs": [],
      "source": [
        "!pip3 install git+https://github.com/promptslab/Promptify.git"
      ]
    },
    {
      "cell_type": "code",
      "execution_count": null,
      "metadata": {
        "id": "HGc-frkylnlW"
      },
      "outputs": [],
      "source": [
        "from promptify import Prompter,OpenAI, Pipeline"
      ]
    },
    {
      "cell_type": "code",
      "execution_count": null,
      "metadata": {
        "id": "TWZCvKvIlnjT"
      },
      "outputs": [],
      "source": [
        "model = OpenAI(OPENAI_API_KEY)\n",
        "prompter = Prompter('ner.jinja')\n",
        "pipe = Pipeline(prompter,model)\n",
        "\n",
        "\n",
        "sent = \"The patient is a 93-year-old female with a medical history of chronic right hip pain, osteoporosis, hypertension, depression, and chronic atrial fibrillation admitted for evaluation and management of severe nausea and vomiting and urinary tract infection\"\n",
        "print(sent)"
      ]
    },
    {
      "cell_type": "code",
      "execution_count": null,
      "metadata": {
        "id": "4HhNZ9PRTgxM"
      },
      "outputs": [],
      "source": [
        "%%capture\n",
        "!pip3 install git+https://github.com/promptslab/Promptify.git"
      ]
    },
    {
      "cell_type": "code",
      "source": [
        "api_key = ''"
      ],
      "metadata": {
        "id": "5_yEWQtxYhpD"
      },
      "execution_count": null,
      "outputs": []
    },
    {
      "cell_type": "code",
      "source": [
        "from promptify import Prompter,OpenAI, Pipeline\n",
        "# from promptify import HubModel, Prompter\n",
        "\n",
        "sentence     =  \"\"\"The patient is a 93-year-old female with a medical\n",
        "                history of chronic right hip pain, osteoporosis,\n",
        "                hypertension, depression, and chronic atrial\n",
        "                fibrillation admitted for evaluation and management\n",
        "                of severe nausea and vomiting and urinary tract\n",
        "                infection\"\"\"\n",
        "\n",
        "model        = OpenAI(api_key) # or `HubModel()` for Huggingface-based inference or 'Azure' etc\n",
        "# model = HubModel(model_id_or_url=\"google/flan-t5-xl\")\n",
        "prompter     = Prompter('ner.jinja') # select a template or provide custom template\n",
        "pipe         = Pipeline(prompter , model)\n",
        "\n",
        "\n",
        "# result = pipe.fit(sentence, domain=\"medical\", labels=None)"
      ],
      "metadata": {
        "id": "nW0vLfoiXrV1"
      },
      "execution_count": null,
      "outputs": []
    },
    {
      "cell_type": "code",
      "source": [
        "sentence     =  \"\"\"The patient is a 93-year-old female with a medical\n",
        "                history of chronic right hip pain, osteoporosis,\n",
        "                hypertension, depression, and chronic atrial\n",
        "                fibrillation admitted for evaluation and management\n",
        "                of severe nausea and vomiting and urinary tract\n",
        "                infection\"\"\""
      ],
      "metadata": {
        "id": "tR-lDX1as-p2"
      },
      "execution_count": null,
      "outputs": []
    },
    {
      "cell_type": "code",
      "source": [
        "result = pipe.fit(sentence, domain=\"medical\", labels=None)"
      ],
      "metadata": {
        "colab": {
          "base_uri": "https://localhost:8080/"
        },
        "id": "clbzFXCMsTVX",
        "outputId": "7947a651-2d5f-4ecb-b309-01994ffa78f5"
      },
      "execution_count": null,
      "outputs": [
        {
          "output_type": "stream",
          "name": "stderr",
          "text": [
            "100%|██████████| 1/1 [00:03<00:00,  3.70s/it]\n"
          ]
        }
      ]
    },
    {
      "cell_type": "code",
      "source": [
        "print(result)"
      ],
      "metadata": {
        "id": "8WwsXiEkYm_O",
        "outputId": "c7791634-8774-4f03-80d2-603573665084",
        "colab": {
          "base_uri": "https://localhost:8080/"
        }
      },
      "execution_count": null,
      "outputs": [
        {
          "output_type": "stream",
          "name": "stdout",
          "text": [
            "[{'text': \"[{'T': 'Age', 'E': '93-year-old'}, {'T': 'Gender', 'E': 'female'}, {'T': 'Medical Condition', 'E': 'chronic right hip pain'}, {'T': 'Medical Condition', 'E': 'osteoporosis'}, {'T': 'Medical Condition', 'E': 'hypertension'}, {'T': 'Medical Condition', 'E': 'depression'}, {'T': 'Medical Condition', 'E': 'chronic atrial fibrillation'}, {'T': 'Reason for Admission', 'E': 'evaluation and management of severe nausea and vomiting and urinary tract infection'}, {'branch': 'Medical', 'group': 'Patient'}]\", 'usage': {'prompt_tokens': 203, 'completion_tokens': 144, 'total_tokens': 347}, 'parsed': {'status': 'completed', 'object_type': <class 'list'>, 'data': {'completion': [{'T': 'Age', 'E': '93-year-old'}, {'T': 'Gender', 'E': 'female'}, {'T': 'Medical Condition', 'E': 'chronic right hip pain'}, {'T': 'Medical Condition', 'E': 'osteoporosis'}, {'T': 'Medical Condition', 'E': 'hypertension'}, {'T': 'Medical Condition', 'E': 'depression'}, {'T': 'Medical Condition', 'E': 'chronic atrial fibrillation'}, {'T': 'Reason for Admission', 'E': 'evaluation and management of severe nausea and vomiting and urinary tract infection'}, {'branch': 'Medical', 'group': 'Patient'}], 'suggestions': []}}}]\n"
          ]
        }
      ]
    },
    {
      "cell_type": "code",
      "source": [
        "from promptify import Prompter,OpenAI, Pipeline\n",
        "\n",
        "sentence     =  \"\"\"Abhishek Jha\\nApplication Development Associate - Accenture\\n\\nBengaluru,\n",
        "                Karnataka - Email me on Indeed: indeed.com/r/Abhishek-Jha/10e7a8cb732bc43a\\n\n",
        "                \\n• To work for an organization which provides me the opportunity to improve\n",
        "                my skills\\nand knowledge for my individual and company's growth in best possible\n",
        "                ways.\\n\\nWilling to relocate to: Bangalore, Karnataka\\n\\nWORK EXPERIENCE\\n\n",
        "                \\nApplication Development Associate\\n\\nAccenture -\\n\\nNovember 2017 to Present\\n\n",
        "                \\nRole: Currently working on Chat-bot. Developing Backend Oracle PeopleSoft Queries\n",
        "                \\nfor the Bot which will be triggered based on given input. Also, Training the bot\n",
        "                for different possible\\nutterances (Both positive and negative), which will be\n",
        "                given as\\ninput by the user.\\n\\nEDUCATION\\n\\nB.E in Information science and engineering\n",
        "                \\n\\nB.v.b college of engineering and technology -  Hubli, Karnataka\\n\\nAugust\n",
        "                2013 to June 2017\\n\\n12th in Mathematics\\n\\nWoodbine modern school\\n\\nApril 2011\n",
        "                to March 2013\\n\\n10th\\n\\nKendriya Vidyalaya\\n\\nApril 2001 to March 2011\\n\\nSKILLS\n",
        "                \\n\\nC (Less than 1 year), Database (Less than 1 year), Database Management\n",
        "                (Less than 1 year),\\nDatabase Management System (Less than 1 year), Java (Less than 1 year)\n",
        "                \\n\\nADDITIONAL INFORMATION\\n\\nTechnical Skills\\n\\nhttps://www.indeed.com/r/Abhishek-Jha/10e7a8cb732bc43a?isid=rex-download&ikw=download-top&co=IN\\n\\n\\n•\n",
        "                Programming language: C, C++, Java\\n• Oracle PeopleSoft\\n• Internet Of Things\\n• Machine Learning\n",
        "                \\n• Database Management System\\n• Computer Networks\\n• Operating System worked on: Linux,\n",
        "                Windows, Mac\\n\\nNon - Technical Skills\\n\\n• Honest and Hard-Working\\n• Tolerant and\n",
        "                Flexible to Different Situations\\n• Polite and Calm\\n• Team-Player\"\"\"\n",
        "\n",
        "model        = OpenAI(api_key) # or `HubModel()` for Huggingface-based inference or 'Azure' etc\n",
        "prompter     = Prompter('ner.jinja') # select a template or provide custom template\n",
        "pipe         = Pipeline(prompter , model)\n",
        "\n",
        "\n",
        "# result = pipe.fit(sentence, domain=\"resume\", labels=None)"
      ],
      "metadata": {
        "id": "hgaMzm9HYz-w"
      },
      "execution_count": null,
      "outputs": []
    },
    {
      "cell_type": "code",
      "source": [
        "result = pipe.fit(sentence, domain=\"resume\", labels=None)"
      ],
      "metadata": {
        "colab": {
          "base_uri": "https://localhost:8080/"
        },
        "id": "W2dfNnLtwnmy",
        "outputId": "1387fe8a-ee20-491b-ae71-8b35dd90df72"
      },
      "execution_count": null,
      "outputs": [
        {
          "output_type": "stream",
          "name": "stderr",
          "text": [
            "100%|██████████| 1/1 [00:06<00:00,  6.50s/it]\n"
          ]
        }
      ]
    },
    {
      "cell_type": "code",
      "source": [
        "print(result)"
      ],
      "metadata": {
        "id": "rv3ZxRcNamHK",
        "outputId": "2bb3f460-302f-41bd-d8c2-a087e13e9c11",
        "colab": {
          "base_uri": "https://localhost:8080/"
        }
      },
      "execution_count": null,
      "outputs": [
        {
          "output_type": "stream",
          "name": "stdout",
          "text": [
            "[{'text': '[{\"T\": \"Name\", \"E\": \"Abhishek Jha\"}, {\"T\": \"Job Title\", \"E\": \"Application Development Associate\"}, {\"T\": \"Company\", \"E\": \"Accenture\"}, {\"T\": \"Location\", \"E\": \"Bengaluru, Karnataka\"}, {\"T\": \"Location\", \"E\": \"Bangalore, Karnataka\"}, {\"T\": \"Role\", \"E\": \"Chat-bot Developer\"}, {\"T\": \"Skill\", \"E\": \"C\"}, {\"T\": \"Skill\", \"E\": \"Database\"}, {\"T\": \"Skill\", \"E\": \"Database Management\"}, {\"T\": \"Skill\", \"E\": \"Database Management System\"}, {\"T\": \"Skill\", \"E\": \"Java\"}, {\"T\": \"Education\", \"E\": \"B.E in Information science and engineering\"}, {\"T\": \"Education\", \"E\": \"B.v.b college of engineering and technology, Hubli, Karnataka\"}, {\"T\": \"Education\", \"E\": \"12th in Mathematics, Woodbine modern school\"}, {\"T\": \"Education\", \"E\": \"10th, Kendriya Vidyalaya\"}, {\"T\": \"Skill\", \"E\": \"Programming language: C, C++, Java\"}, {\"T\": \"Skill\", \"E\": \"Oracle PeopleSoft\"}, {\"T\": \"Skill\", \"E\": \"Internet Of Things\"}, {\"T\": \"Skill\", \"E\": \"Machine Learning\"}, {\"T\": \"Skill\", \"E\": \"Database Management System\"}, {\"T\": \"Skill\", \"E\": \"Computer Networks\"}, {\"T\": \"Skill\", \"E\": \"Operating System worked on: Linux, Windows, Mac\"}, {\"T\": \"Non-Technical Skill\", \"E\": \"Honest and Hard-Working\"}, {\"T\": \"Non-Technical Skill\", \"E\": \"Tolerant and Flexible to Different Situations\"}, {\"T\": \"Non-Technical Skill\", \"E\": \"Polite and Calm\"}, {\"T\": \"Non-Technical Skill\", \"E\": \"Team-Player\"}, {\"branch\": \"Application Development Associate\", \"group\": \"Accenture\"}]', 'usage': {'prompt_tokens': 585, 'completion_tokens': 439, 'total_tokens': 1024}, 'parsed': {'status': 'completed', 'object_type': <class 'list'>, 'data': {'completion': [{'T': 'Name', 'E': 'Abhishek Jha'}, {'T': 'Job Title', 'E': 'Application Development Associate'}, {'T': 'Company', 'E': 'Accenture'}, {'T': 'Location', 'E': 'Bengaluru, Karnataka'}, {'T': 'Location', 'E': 'Bangalore, Karnataka'}, {'T': 'Role', 'E': 'Chat-bot Developer'}, {'T': 'Skill', 'E': 'C'}, {'T': 'Skill', 'E': 'Database'}, {'T': 'Skill', 'E': 'Database Management'}, {'T': 'Skill', 'E': 'Database Management System'}, {'T': 'Skill', 'E': 'Java'}, {'T': 'Education', 'E': 'B.E in Information science and engineering'}, {'T': 'Education', 'E': 'B.v.b college of engineering and technology, Hubli, Karnataka'}, {'T': 'Education', 'E': '12th in Mathematics, Woodbine modern school'}, {'T': 'Education', 'E': '10th, Kendriya Vidyalaya'}, {'T': 'Skill', 'E': 'Programming language: C, C++, Java'}, {'T': 'Skill', 'E': 'Oracle PeopleSoft'}, {'T': 'Skill', 'E': 'Internet Of Things'}, {'T': 'Skill', 'E': 'Machine Learning'}, {'T': 'Skill', 'E': 'Database Management System'}, {'T': 'Skill', 'E': 'Computer Networks'}, {'T': 'Skill', 'E': 'Operating System worked on: Linux, Windows, Mac'}, {'T': 'Non-Technical Skill', 'E': 'Honest and Hard-Working'}, {'T': 'Non-Technical Skill', 'E': 'Tolerant and Flexible to Different Situations'}, {'T': 'Non-Technical Skill', 'E': 'Polite and Calm'}, {'T': 'Non-Technical Skill', 'E': 'Team-Player'}, {'branch': 'Application Development Associate', 'group': 'Accenture'}], 'suggestions': []}}}]\n"
          ]
        }
      ]
    },
    {
      "cell_type": "code",
      "source": [
        "import json"
      ],
      "metadata": {
        "id": "hOm0XOujc_Sv"
      },
      "execution_count": null,
      "outputs": []
    },
    {
      "cell_type": "code",
      "source": [
        "result"
      ],
      "metadata": {
        "id": "HnsydGctcuvu",
        "outputId": "6edeb475-cd6e-4ddc-eea3-2117db12c597",
        "colab": {
          "base_uri": "https://localhost:8080/"
        }
      },
      "execution_count": null,
      "outputs": [
        {
          "output_type": "execute_result",
          "data": {
            "text/plain": [
              "[{'text': '[{\"T\": \"Name\", \"E\": \"Abhishek Jha\"}, {\"T\": \"Job Title\", \"E\": \"Application Development Associate\"}, {\"T\": \"Company\", \"E\": \"Accenture\"}, {\"T\": \"Location\", \"E\": \"Bengaluru, Karnataka\"}, {\"T\": \"Location\", \"E\": \"Bangalore, Karnataka\"}, {\"T\": \"Role\", \"E\": \"Chat-bot Developer\"}, {\"T\": \"Skill\", \"E\": \"C\"}, {\"T\": \"Skill\", \"E\": \"Database\"}, {\"T\": \"Skill\", \"E\": \"Database Management\"}, {\"T\": \"Skill\", \"E\": \"Database Management System\"}, {\"T\": \"Skill\", \"E\": \"Java\"}, {\"T\": \"Education\", \"E\": \"B.E in Information science and engineering\"}, {\"T\": \"Education\", \"E\": \"B.v.b college of engineering and technology, Hubli, Karnataka\"}, {\"T\": \"Education\", \"E\": \"12th in Mathematics, Woodbine modern school\"}, {\"T\": \"Education\", \"E\": \"10th, Kendriya Vidyalaya\"}, {\"T\": \"Skill\", \"E\": \"Programming language: C, C++, Java\"}, {\"T\": \"Skill\", \"E\": \"Oracle PeopleSoft\"}, {\"T\": \"Skill\", \"E\": \"Internet Of Things\"}, {\"T\": \"Skill\", \"E\": \"Machine Learning\"}, {\"T\": \"Skill\", \"E\": \"Database Management System\"}, {\"T\": \"Skill\", \"E\": \"Computer Networks\"}, {\"T\": \"Skill\", \"E\": \"Operating System worked on: Linux, Windows, Mac\"}, {\"T\": \"Non-Technical Skill\", \"E\": \"Honest and Hard-Working\"}, {\"T\": \"Non-Technical Skill\", \"E\": \"Tolerant and Flexible to Different Situations\"}, {\"T\": \"Non-Technical Skill\", \"E\": \"Polite and Calm\"}, {\"T\": \"Non-Technical Skill\", \"E\": \"Team-Player\"}, {\"branch\": \"Application Development Associate\", \"group\": \"Accenture\"}]',\n",
              "  'usage': {'prompt_tokens': 585,\n",
              "   'completion_tokens': 439,\n",
              "   'total_tokens': 1024},\n",
              "  'parsed': {'status': 'completed',\n",
              "   'object_type': list,\n",
              "   'data': {'completion': [{'T': 'Name', 'E': 'Abhishek Jha'},\n",
              "     {'T': 'Job Title', 'E': 'Application Development Associate'},\n",
              "     {'T': 'Company', 'E': 'Accenture'},\n",
              "     {'T': 'Location', 'E': 'Bengaluru, Karnataka'},\n",
              "     {'T': 'Location', 'E': 'Bangalore, Karnataka'},\n",
              "     {'T': 'Role', 'E': 'Chat-bot Developer'},\n",
              "     {'T': 'Skill', 'E': 'C'},\n",
              "     {'T': 'Skill', 'E': 'Database'},\n",
              "     {'T': 'Skill', 'E': 'Database Management'},\n",
              "     {'T': 'Skill', 'E': 'Database Management System'},\n",
              "     {'T': 'Skill', 'E': 'Java'},\n",
              "     {'T': 'Education', 'E': 'B.E in Information science and engineering'},\n",
              "     {'T': 'Education',\n",
              "      'E': 'B.v.b college of engineering and technology, Hubli, Karnataka'},\n",
              "     {'T': 'Education', 'E': '12th in Mathematics, Woodbine modern school'},\n",
              "     {'T': 'Education', 'E': '10th, Kendriya Vidyalaya'},\n",
              "     {'T': 'Skill', 'E': 'Programming language: C, C++, Java'},\n",
              "     {'T': 'Skill', 'E': 'Oracle PeopleSoft'},\n",
              "     {'T': 'Skill', 'E': 'Internet Of Things'},\n",
              "     {'T': 'Skill', 'E': 'Machine Learning'},\n",
              "     {'T': 'Skill', 'E': 'Database Management System'},\n",
              "     {'T': 'Skill', 'E': 'Computer Networks'},\n",
              "     {'T': 'Skill', 'E': 'Operating System worked on: Linux, Windows, Mac'},\n",
              "     {'T': 'Non-Technical Skill', 'E': 'Honest and Hard-Working'},\n",
              "     {'T': 'Non-Technical Skill',\n",
              "      'E': 'Tolerant and Flexible to Different Situations'},\n",
              "     {'T': 'Non-Technical Skill', 'E': 'Polite and Calm'},\n",
              "     {'T': 'Non-Technical Skill', 'E': 'Team-Player'},\n",
              "     {'branch': 'Application Development Associate', 'group': 'Accenture'}],\n",
              "    'suggestions': []}}}]"
            ]
          },
          "metadata": {},
          "execution_count": 11
        }
      ]
    },
    {
      "cell_type": "code",
      "source": [
        "resume_content = result[0]['']"
      ],
      "metadata": {
        "colab": {
          "base_uri": "https://localhost:8080/",
          "height": 141
        },
        "id": "SOK9bxT0xH7N",
        "outputId": "bdd5e3e5-f834-4dac-a475-30cd64e25587"
      },
      "execution_count": null,
      "outputs": [
        {
          "output_type": "error",
          "ename": "IndexError",
          "evalue": "list index out of range",
          "traceback": [
            "\u001b[0;31m---------------------------------------------------------------------------\u001b[0m",
            "\u001b[0;31mIndexError\u001b[0m                                Traceback (most recent call last)",
            "\u001b[0;32m<ipython-input-13-1bc4a5f7ea13>\u001b[0m in \u001b[0;36m<cell line: 1>\u001b[0;34m()\u001b[0m\n\u001b[0;32m----> 1\u001b[0;31m \u001b[0mresume_content\u001b[0m \u001b[0;34m=\u001b[0m \u001b[0mresult\u001b[0m\u001b[0;34m[\u001b[0m\u001b[0;36m1\u001b[0m\u001b[0;34m]\u001b[0m\u001b[0;34m\u001b[0m\u001b[0;34m\u001b[0m\u001b[0m\n\u001b[0m",
            "\u001b[0;31mIndexError\u001b[0m: list index out of range"
          ]
        }
      ]
    },
    {
      "cell_type": "code",
      "source": [
        "resume_content = result[0]['text']\n",
        "resume_content"
      ],
      "metadata": {
        "id": "4y1JeHsRe7ss",
        "colab": {
          "base_uri": "https://localhost:8080/",
          "height": 157
        },
        "outputId": "c9e6a116-6196-42db-f9eb-57c7b40dbf8b"
      },
      "execution_count": null,
      "outputs": [
        {
          "output_type": "execute_result",
          "data": {
            "text/plain": [
              "'[{\"T\": \"Name\", \"E\": \"Abhishek Jha\"}, {\"T\": \"Job Title\", \"E\": \"Application Development Associate\"}, {\"T\": \"Company\", \"E\": \"Accenture\"}, {\"T\": \"Location\", \"E\": \"Bengaluru, Karnataka\"}, {\"T\": \"Location\", \"E\": \"Bangalore, Karnataka\"}, {\"T\": \"Role\", \"E\": \"Chat-bot Developer\"}, {\"T\": \"Skill\", \"E\": \"C\"}, {\"T\": \"Skill\", \"E\": \"Database\"}, {\"T\": \"Skill\", \"E\": \"Database Management\"}, {\"T\": \"Skill\", \"E\": \"Database Management System\"}, {\"T\": \"Skill\", \"E\": \"Java\"}, {\"T\": \"Education\", \"E\": \"B.E in Information science and engineering\"}, {\"T\": \"Education\", \"E\": \"B.v.b college of engineering and technology, Hubli, Karnataka\"}, {\"T\": \"Education\", \"E\": \"12th in Mathematics, Woodbine modern school\"}, {\"T\": \"Education\", \"E\": \"10th, Kendriya Vidyalaya\"}, {\"T\": \"Skill\", \"E\": \"Programming language: C, C++, Java\"}, {\"T\": \"Skill\", \"E\": \"Oracle PeopleSoft\"}, {\"T\": \"Skill\", \"E\": \"Internet Of Things\"}, {\"T\": \"Skill\", \"E\": \"Machine Learning\"}, {\"T\": \"Skill\", \"E\": \"Database Management System\"}, {\"T\": \"Skill\", \"E\": \"Computer Networks\"}, {\"T\": \"Skill\", \"E\": \"Operating System worked on: Linux, Windows, Mac\"}, {\"T\": \"Non-Technical Skill\", \"E\": \"Honest and Hard-Working\"}, {\"T\": \"Non-Technical Skill\", \"E\": \"Tolerant and Flexible to Different Situations\"}, {\"T\": \"Non-Technical Skill\", \"E\": \"Polite and Calm\"}, {\"T\": \"Non-Technical Skill\", \"E\": \"Team-Player\"}, {\"branch\": \"Application Development Associate\", \"group\": \"Accenture\"}]'"
            ],
            "application/vnd.google.colaboratory.intrinsic+json": {
              "type": "string"
            }
          },
          "metadata": {},
          "execution_count": 14
        }
      ]
    },
    {
      "cell_type": "code",
      "source": [
        "resume_content = result[0]['parsed']['data']['completion']\n",
        "resume_content"
      ],
      "metadata": {
        "colab": {
          "base_uri": "https://localhost:8080/"
        },
        "id": "4aSZq9esxBp7",
        "outputId": "4095ba15-267f-41c7-ee42-e1c650b57cce"
      },
      "execution_count": null,
      "outputs": [
        {
          "output_type": "execute_result",
          "data": {
            "text/plain": [
              "[{'T': 'Name', 'E': 'Abhishek Jha'},\n",
              " {'T': 'Job Title', 'E': 'Application Development Associate'},\n",
              " {'T': 'Company', 'E': 'Accenture'},\n",
              " {'T': 'Location', 'E': 'Bengaluru, Karnataka'},\n",
              " {'T': 'Location', 'E': 'Bangalore, Karnataka'},\n",
              " {'T': 'Role', 'E': 'Chat-bot Developer'},\n",
              " {'T': 'Skill', 'E': 'C'},\n",
              " {'T': 'Skill', 'E': 'Database'},\n",
              " {'T': 'Skill', 'E': 'Database Management'},\n",
              " {'T': 'Skill', 'E': 'Database Management System'},\n",
              " {'T': 'Skill', 'E': 'Java'},\n",
              " {'T': 'Education', 'E': 'B.E in Information science and engineering'},\n",
              " {'T': 'Education',\n",
              "  'E': 'B.v.b college of engineering and technology, Hubli, Karnataka'},\n",
              " {'T': 'Education', 'E': '12th in Mathematics, Woodbine modern school'},\n",
              " {'T': 'Education', 'E': '10th, Kendriya Vidyalaya'},\n",
              " {'T': 'Skill', 'E': 'Programming language: C, C++, Java'},\n",
              " {'T': 'Skill', 'E': 'Oracle PeopleSoft'},\n",
              " {'T': 'Skill', 'E': 'Internet Of Things'},\n",
              " {'T': 'Skill', 'E': 'Machine Learning'},\n",
              " {'T': 'Skill', 'E': 'Database Management System'},\n",
              " {'T': 'Skill', 'E': 'Computer Networks'},\n",
              " {'T': 'Skill', 'E': 'Operating System worked on: Linux, Windows, Mac'},\n",
              " {'T': 'Non-Technical Skill', 'E': 'Honest and Hard-Working'},\n",
              " {'T': 'Non-Technical Skill',\n",
              "  'E': 'Tolerant and Flexible to Different Situations'},\n",
              " {'T': 'Non-Technical Skill', 'E': 'Polite and Calm'},\n",
              " {'T': 'Non-Technical Skill', 'E': 'Team-Player'},\n",
              " {'branch': 'Application Development Associate', 'group': 'Accenture'}]"
            ]
          },
          "metadata": {},
          "execution_count": 25
        }
      ]
    },
    {
      "cell_type": "code",
      "source": [
        "data = json.dumps(resume_content)\n",
        "data\n",
        "new_data = json.loads(data)\n",
        "new_data"
      ],
      "metadata": {
        "colab": {
          "base_uri": "https://localhost:8080/"
        },
        "id": "XSEH77yzy6IW",
        "outputId": "27e1e034-affa-47f6-dc55-c795e1fd6463"
      },
      "execution_count": null,
      "outputs": [
        {
          "output_type": "execute_result",
          "data": {
            "text/plain": [
              "[{'T': 'Name', 'E': 'Abhishek Jha'},\n",
              " {'T': 'Job Title', 'E': 'Application Development Associate'},\n",
              " {'T': 'Company', 'E': 'Accenture'},\n",
              " {'T': 'Location', 'E': 'Bengaluru, Karnataka'},\n",
              " {'T': 'Location', 'E': 'Bangalore, Karnataka'},\n",
              " {'T': 'Role', 'E': 'Chat-bot Developer'},\n",
              " {'T': 'Skill', 'E': 'C'},\n",
              " {'T': 'Skill', 'E': 'Database'},\n",
              " {'T': 'Skill', 'E': 'Database Management'},\n",
              " {'T': 'Skill', 'E': 'Database Management System'},\n",
              " {'T': 'Skill', 'E': 'Java'},\n",
              " {'T': 'Education', 'E': 'B.E in Information science and engineering'},\n",
              " {'T': 'Education',\n",
              "  'E': 'B.v.b college of engineering and technology, Hubli, Karnataka'},\n",
              " {'T': 'Education', 'E': '12th in Mathematics, Woodbine modern school'},\n",
              " {'T': 'Education', 'E': '10th, Kendriya Vidyalaya'},\n",
              " {'T': 'Skill', 'E': 'Programming language: C, C++, Java'},\n",
              " {'T': 'Skill', 'E': 'Oracle PeopleSoft'},\n",
              " {'T': 'Skill', 'E': 'Internet Of Things'},\n",
              " {'T': 'Skill', 'E': 'Machine Learning'},\n",
              " {'T': 'Skill', 'E': 'Database Management System'},\n",
              " {'T': 'Skill', 'E': 'Computer Networks'},\n",
              " {'T': 'Skill', 'E': 'Operating System worked on: Linux, Windows, Mac'},\n",
              " {'T': 'Non-Technical Skill', 'E': 'Honest and Hard-Working'},\n",
              " {'T': 'Non-Technical Skill',\n",
              "  'E': 'Tolerant and Flexible to Different Situations'},\n",
              " {'T': 'Non-Technical Skill', 'E': 'Polite and Calm'},\n",
              " {'T': 'Non-Technical Skill', 'E': 'Team-Player'},\n",
              " {'branch': 'Application Development Associate', 'group': 'Accenture'}]"
            ]
          },
          "metadata": {},
          "execution_count": 32
        }
      ]
    },
    {
      "cell_type": "code",
      "source": [
        "for items in new_data:\n",
        "  key = items.get('T')\n",
        "  value = items.get('E')\n",
        "  print(f\"{key}:{value}\")"
      ],
      "metadata": {
        "colab": {
          "base_uri": "https://localhost:8080/"
        },
        "id": "STnPLPpu4QFu",
        "outputId": "9ffbaa83-675d-49f4-fac4-ce90917e5bfb"
      },
      "execution_count": null,
      "outputs": [
        {
          "output_type": "stream",
          "name": "stdout",
          "text": [
            "Name:Abhishek Jha\n",
            "Job Title:Application Development Associate\n",
            "Company:Accenture\n",
            "Location:Bengaluru, Karnataka\n",
            "Location:Bangalore, Karnataka\n",
            "Role:Chat-bot Developer\n",
            "Skill:C\n",
            "Skill:Database\n",
            "Skill:Database Management\n",
            "Skill:Database Management System\n",
            "Skill:Java\n",
            "Education:B.E in Information science and engineering\n",
            "Education:B.v.b college of engineering and technology, Hubli, Karnataka\n",
            "Education:12th in Mathematics, Woodbine modern school\n",
            "Education:10th, Kendriya Vidyalaya\n",
            "Skill:Programming language: C, C++, Java\n",
            "Skill:Oracle PeopleSoft\n",
            "Skill:Internet Of Things\n",
            "Skill:Machine Learning\n",
            "Skill:Database Management System\n",
            "Skill:Computer Networks\n",
            "Skill:Operating System worked on: Linux, Windows, Mac\n",
            "Non-Technical Skill:Honest and Hard-Working\n",
            "Non-Technical Skill:Tolerant and Flexible to Different Situations\n",
            "Non-Technical Skill:Polite and Calm\n",
            "Non-Technical Skill:Team-Player\n",
            "None:None\n"
          ]
        }
      ]
    },
    {
      "cell_type": "code",
      "source": [
        "final_data = {}\n",
        "\n",
        "for items in new_data:\n",
        "  key = items.get('T')\n",
        "  value = items.get('E')\n",
        "\n",
        "  if key in final_data:\n",
        "    if isinstance(final_data[key],list):\n",
        "      final_data[key].append(value)\n",
        "    else:\n",
        "      final_data[key] = [final_data[key], value]\n",
        "  else:\n",
        "        # If the key does not exist, create a new entry\n",
        "        final_data[key] = value\n"
      ],
      "metadata": {
        "id": "V7FEdj_UzOos"
      },
      "execution_count": null,
      "outputs": []
    },
    {
      "cell_type": "code",
      "source": [
        "final_data"
      ],
      "metadata": {
        "colab": {
          "base_uri": "https://localhost:8080/"
        },
        "id": "2jVa8Yn-3fLU",
        "outputId": "c2ac3d68-e6f2-4826-8160-0e3b27e2f2c2"
      },
      "execution_count": null,
      "outputs": [
        {
          "output_type": "execute_result",
          "data": {
            "text/plain": [
              "{'Name': 'Abhishek Jha',\n",
              " 'Job Title': 'Application Development Associate',\n",
              " 'Company': 'Accenture',\n",
              " 'Location': ['Bengaluru, Karnataka', 'Bangalore, Karnataka'],\n",
              " 'Role': 'Chat-bot Developer',\n",
              " 'Skill': ['C',\n",
              "  'Database',\n",
              "  'Database Management',\n",
              "  'Database Management System',\n",
              "  'Java',\n",
              "  'Programming language: C, C++, Java',\n",
              "  'Oracle PeopleSoft',\n",
              "  'Internet Of Things',\n",
              "  'Machine Learning',\n",
              "  'Database Management System',\n",
              "  'Computer Networks',\n",
              "  'Operating System worked on: Linux, Windows, Mac'],\n",
              " 'Education': ['B.E in Information science and engineering',\n",
              "  'B.v.b college of engineering and technology, Hubli, Karnataka',\n",
              "  '12th in Mathematics, Woodbine modern school',\n",
              "  '10th, Kendriya Vidyalaya'],\n",
              " 'Non-Technical Skill': ['Honest and Hard-Working',\n",
              "  'Tolerant and Flexible to Different Situations',\n",
              "  'Polite and Calm',\n",
              "  'Team-Player'],\n",
              " None: None}"
            ]
          },
          "metadata": {},
          "execution_count": 56
        }
      ]
    },
    {
      "cell_type": "code",
      "source": [
        "!pip install pyngrok"
      ],
      "metadata": {
        "colab": {
          "base_uri": "https://localhost:8080/"
        },
        "id": "wseYORWwL3xr",
        "outputId": "2b4ba342-481b-45c6-ace3-a9f1efa5c0f6"
      },
      "execution_count": null,
      "outputs": [
        {
          "output_type": "stream",
          "name": "stdout",
          "text": [
            "Collecting pyngrok\n",
            "  Downloading pyngrok-7.1.6-py3-none-any.whl (22 kB)\n",
            "Requirement already satisfied: PyYAML>=5.1 in /usr/local/lib/python3.10/dist-packages (from pyngrok) (6.0.1)\n",
            "Installing collected packages: pyngrok\n",
            "Successfully installed pyngrok-7.1.6\n"
          ]
        }
      ]
    },
    {
      "cell_type": "code",
      "source": [
        "!pip install streamlit"
      ],
      "metadata": {
        "colab": {
          "base_uri": "https://localhost:8080/"
        },
        "id": "cXudSafG-KjW",
        "outputId": "796a9a17-b3ca-4d9e-ceb3-8e52ad9228b6"
      },
      "execution_count": null,
      "outputs": [
        {
          "output_type": "stream",
          "name": "stdout",
          "text": [
            "Collecting streamlit\n",
            "  Downloading streamlit-1.34.0-py2.py3-none-any.whl (8.5 MB)\n",
            "\u001b[2K     \u001b[90m━━━━━━━━━━━━━━━━━━━━━━━━━━━━━━━━━━━━━━━━\u001b[0m \u001b[32m8.5/8.5 MB\u001b[0m \u001b[31m28.5 MB/s\u001b[0m eta \u001b[36m0:00:00\u001b[0m\n",
            "\u001b[?25hRequirement already satisfied: altair<6,>=4.0 in /usr/local/lib/python3.10/dist-packages (from streamlit) (4.2.2)\n",
            "Requirement already satisfied: blinker<2,>=1.0.0 in /usr/lib/python3/dist-packages (from streamlit) (1.4)\n",
            "Requirement already satisfied: cachetools<6,>=4.0 in /usr/local/lib/python3.10/dist-packages (from streamlit) (5.3.3)\n",
            "Requirement already satisfied: click<9,>=7.0 in /usr/local/lib/python3.10/dist-packages (from streamlit) (8.1.7)\n",
            "Requirement already satisfied: numpy<2,>=1.19.3 in /usr/local/lib/python3.10/dist-packages (from streamlit) (1.25.2)\n",
            "Requirement already satisfied: packaging<25,>=16.8 in /usr/local/lib/python3.10/dist-packages (from streamlit) (24.0)\n",
            "Requirement already satisfied: pandas<3,>=1.3.0 in /usr/local/lib/python3.10/dist-packages (from streamlit) (2.0.3)\n",
            "Requirement already satisfied: pillow<11,>=7.1.0 in /usr/local/lib/python3.10/dist-packages (from streamlit) (9.4.0)\n",
            "Requirement already satisfied: protobuf<5,>=3.20 in /usr/local/lib/python3.10/dist-packages (from streamlit) (3.20.3)\n",
            "Requirement already satisfied: pyarrow>=7.0 in /usr/local/lib/python3.10/dist-packages (from streamlit) (14.0.2)\n",
            "Requirement already satisfied: requests<3,>=2.27 in /usr/local/lib/python3.10/dist-packages (from streamlit) (2.31.0)\n",
            "Requirement already satisfied: rich<14,>=10.14.0 in /usr/local/lib/python3.10/dist-packages (from streamlit) (13.7.1)\n",
            "Requirement already satisfied: tenacity<9,>=8.1.0 in /usr/local/lib/python3.10/dist-packages (from streamlit) (8.2.2)\n",
            "Requirement already satisfied: toml<2,>=0.10.1 in /usr/local/lib/python3.10/dist-packages (from streamlit) (0.10.2)\n",
            "Requirement already satisfied: typing-extensions<5,>=4.3.0 in /usr/local/lib/python3.10/dist-packages (from streamlit) (4.11.0)\n",
            "Collecting gitpython!=3.1.19,<4,>=3.0.7 (from streamlit)\n",
            "  Downloading GitPython-3.1.43-py3-none-any.whl (207 kB)\n",
            "\u001b[2K     \u001b[90m━━━━━━━━━━━━━━━━━━━━━━━━━━━━━━━━━━━━━━━━\u001b[0m \u001b[32m207.3/207.3 kB\u001b[0m \u001b[31m20.8 MB/s\u001b[0m eta \u001b[36m0:00:00\u001b[0m\n",
            "\u001b[?25hCollecting pydeck<1,>=0.8.0b4 (from streamlit)\n",
            "  Downloading pydeck-0.9.1-py2.py3-none-any.whl (6.9 MB)\n",
            "\u001b[2K     \u001b[90m━━━━━━━━━━━━━━━━━━━━━━━━━━━━━━━━━━━━━━━━\u001b[0m \u001b[32m6.9/6.9 MB\u001b[0m \u001b[31m74.2 MB/s\u001b[0m eta \u001b[36m0:00:00\u001b[0m\n",
            "\u001b[?25hRequirement already satisfied: tornado<7,>=6.0.3 in /usr/local/lib/python3.10/dist-packages (from streamlit) (6.3.3)\n",
            "Collecting watchdog>=2.1.5 (from streamlit)\n",
            "  Downloading watchdog-4.0.0-py3-none-manylinux2014_x86_64.whl (82 kB)\n",
            "\u001b[2K     \u001b[90m━━━━━━━━━━━━━━━━━━━━━━━━━━━━━━━━━━━━━━━━\u001b[0m \u001b[32m83.0/83.0 kB\u001b[0m \u001b[31m10.3 MB/s\u001b[0m eta \u001b[36m0:00:00\u001b[0m\n",
            "\u001b[?25hRequirement already satisfied: entrypoints in /usr/local/lib/python3.10/dist-packages (from altair<6,>=4.0->streamlit) (0.4)\n",
            "Requirement already satisfied: jinja2 in /usr/local/lib/python3.10/dist-packages (from altair<6,>=4.0->streamlit) (2.11.3)\n",
            "Requirement already satisfied: jsonschema>=3.0 in /usr/local/lib/python3.10/dist-packages (from altair<6,>=4.0->streamlit) (4.19.2)\n",
            "Requirement already satisfied: toolz in /usr/local/lib/python3.10/dist-packages (from altair<6,>=4.0->streamlit) (0.12.1)\n",
            "Collecting gitdb<5,>=4.0.1 (from gitpython!=3.1.19,<4,>=3.0.7->streamlit)\n",
            "  Downloading gitdb-4.0.11-py3-none-any.whl (62 kB)\n",
            "\u001b[2K     \u001b[90m━━━━━━━━━━━━━━━━━━━━━━━━━━━━━━━━━━━━━━━━\u001b[0m \u001b[32m62.7/62.7 kB\u001b[0m \u001b[31m7.1 MB/s\u001b[0m eta \u001b[36m0:00:00\u001b[0m\n",
            "\u001b[?25hRequirement already satisfied: python-dateutil>=2.8.2 in /usr/local/lib/python3.10/dist-packages (from pandas<3,>=1.3.0->streamlit) (2.8.2)\n",
            "Requirement already satisfied: pytz>=2020.1 in /usr/local/lib/python3.10/dist-packages (from pandas<3,>=1.3.0->streamlit) (2023.4)\n",
            "Requirement already satisfied: tzdata>=2022.1 in /usr/local/lib/python3.10/dist-packages (from pandas<3,>=1.3.0->streamlit) (2024.1)\n",
            "Requirement already satisfied: charset-normalizer<4,>=2 in /usr/local/lib/python3.10/dist-packages (from requests<3,>=2.27->streamlit) (3.3.2)\n",
            "Requirement already satisfied: idna<4,>=2.5 in /usr/local/lib/python3.10/dist-packages (from requests<3,>=2.27->streamlit) (3.7)\n",
            "Requirement already satisfied: urllib3<3,>=1.21.1 in /usr/local/lib/python3.10/dist-packages (from requests<3,>=2.27->streamlit) (2.0.7)\n",
            "Requirement already satisfied: certifi>=2017.4.17 in /usr/local/lib/python3.10/dist-packages (from requests<3,>=2.27->streamlit) (2024.2.2)\n",
            "Requirement already satisfied: markdown-it-py>=2.2.0 in /usr/local/lib/python3.10/dist-packages (from rich<14,>=10.14.0->streamlit) (3.0.0)\n",
            "Requirement already satisfied: pygments<3.0.0,>=2.13.0 in /usr/local/lib/python3.10/dist-packages (from rich<14,>=10.14.0->streamlit) (2.16.1)\n",
            "Collecting smmap<6,>=3.0.1 (from gitdb<5,>=4.0.1->gitpython!=3.1.19,<4,>=3.0.7->streamlit)\n",
            "  Downloading smmap-5.0.1-py3-none-any.whl (24 kB)\n",
            "Requirement already satisfied: MarkupSafe>=0.23 in /usr/local/lib/python3.10/dist-packages (from jinja2->altair<6,>=4.0->streamlit) (2.0.1)\n",
            "Requirement already satisfied: attrs>=22.2.0 in /usr/local/lib/python3.10/dist-packages (from jsonschema>=3.0->altair<6,>=4.0->streamlit) (23.2.0)\n",
            "Requirement already satisfied: jsonschema-specifications>=2023.03.6 in /usr/local/lib/python3.10/dist-packages (from jsonschema>=3.0->altair<6,>=4.0->streamlit) (2023.12.1)\n",
            "Requirement already satisfied: referencing>=0.28.4 in /usr/local/lib/python3.10/dist-packages (from jsonschema>=3.0->altair<6,>=4.0->streamlit) (0.35.1)\n",
            "Requirement already satisfied: rpds-py>=0.7.1 in /usr/local/lib/python3.10/dist-packages (from jsonschema>=3.0->altair<6,>=4.0->streamlit) (0.18.1)\n",
            "Requirement already satisfied: mdurl~=0.1 in /usr/local/lib/python3.10/dist-packages (from markdown-it-py>=2.2.0->rich<14,>=10.14.0->streamlit) (0.1.2)\n",
            "Requirement already satisfied: six>=1.5 in /usr/local/lib/python3.10/dist-packages (from python-dateutil>=2.8.2->pandas<3,>=1.3.0->streamlit) (1.16.0)\n",
            "Installing collected packages: watchdog, smmap, pydeck, gitdb, gitpython, streamlit\n",
            "Successfully installed gitdb-4.0.11 gitpython-3.1.43 pydeck-0.9.1 smmap-5.0.1 streamlit-1.34.0 watchdog-4.0.0\n"
          ]
        }
      ]
    },
    {
      "cell_type": "code",
      "source": [
        "!pip install pypdf"
      ],
      "metadata": {
        "colab": {
          "base_uri": "https://localhost:8080/"
        },
        "id": "xn64Mw5t-SRU",
        "outputId": "46c69be5-4998-4f1e-9f8b-4965f41c1852"
      },
      "execution_count": null,
      "outputs": [
        {
          "output_type": "stream",
          "name": "stdout",
          "text": [
            "Collecting pypdf\n",
            "  Downloading pypdf-4.2.0-py3-none-any.whl (290 kB)\n",
            "\u001b[?25l     \u001b[90m━━━━━━━━━━━━━━━━━━━━━━━━━━━━━━━━━━━━━━━━\u001b[0m \u001b[32m0.0/290.4 kB\u001b[0m \u001b[31m?\u001b[0m eta \u001b[36m-:--:--\u001b[0m\r\u001b[2K     \u001b[91m━━━━━━━━━━━━━━━━━━━━━━━━━━━━\u001b[0m\u001b[90m╺\u001b[0m\u001b[90m━━━━━━━━━━━\u001b[0m \u001b[32m204.8/290.4 kB\u001b[0m \u001b[31m6.0 MB/s\u001b[0m eta \u001b[36m0:00:01\u001b[0m\r\u001b[2K     \u001b[90m━━━━━━━━━━━━━━━━━━━━━━━━━━━━━━━━━━━━━━━━\u001b[0m \u001b[32m290.4/290.4 kB\u001b[0m \u001b[31m5.5 MB/s\u001b[0m eta \u001b[36m0:00:00\u001b[0m\n",
            "\u001b[?25hRequirement already satisfied: typing_extensions>=4.0 in /usr/local/lib/python3.10/dist-packages (from pypdf) (4.11.0)\n",
            "Installing collected packages: pypdf\n",
            "Successfully installed pypdf-4.2.0\n"
          ]
        }
      ]
    },
    {
      "cell_type": "code",
      "source": [
        "from pyngrok import ngrok"
      ],
      "metadata": {
        "id": "VgYx7ehdLx6t"
      },
      "execution_count": null,
      "outputs": []
    },
    {
      "cell_type": "code",
      "source": [
        "import os\n",
        "from threading import Thread"
      ],
      "metadata": {
        "id": "ISvO9M1CQl0k"
      },
      "execution_count": null,
      "outputs": []
    },
    {
      "cell_type": "code",
      "source": [
        "ngrok.set_auth_token('2Oy4ae8E4dB9wOwf7LWnzN4Jmq3_RPHq9iEPttTB3Ma2rXdk')"
      ],
      "metadata": {
        "colab": {
          "base_uri": "https://localhost:8080/"
        },
        "id": "E6Y9fHqv7XAv",
        "outputId": "4b09623f-a998-4b17-b949-b2b024939bc3"
      },
      "execution_count": null,
      "outputs": [
        {
          "output_type": "stream",
          "name": "stdout",
          "text": []
        }
      ]
    },
    {
      "cell_type": "code",
      "source": [
        "from pypdf import PdfReader\n",
        "reader = PdfReader('/content/vedant_hire_resume(2024).pdf')\n",
        "\n",
        "page=reader.pages[0]\n",
        "print(page.extract_text())\n",
        "content = page.extract_text()"
      ],
      "metadata": {
        "colab": {
          "base_uri": "https://localhost:8080/"
        },
        "id": "TuxZlDrx_eTE",
        "outputId": "686e91c0-0415-4c6e-8750-40d0b6869ff7"
      },
      "execution_count": null,
      "outputs": [
        {
          "output_type": "stream",
          "name": "stdout",
          "text": [
            "Vedant Hire\n",
            "vedant.hire@somaiya.edu | +91 8828330196 | \n",
            "Multilingual handwritten text detector and translator | TensorFlow, OpenCV, Keras and scikit-learn | Github  \n",
            "Wind Power prediction | VMD, EMD and EEMD(python and matlab) | Gith  ub \n",
            "Stock management portfolio| Flask, Tensorflow, CNN, OpenCV, Pillow, Scikit-learn | Gith  ub \n",
            "BTech in IT & Honours (AI), CGPA: 8.34 / 10  \n",
            "HSC 12th Board Examination, 82%, Ryan International \n",
            "SSC 10 th Board Examination, 93%, Apeejay School NerulLinkedIn\n",
            "Languages: Python, R, C, SQL(MySQL)\n",
            "Machine Learning/Ai: TensorFlow, PyTorch, Keras, OpenCV, Scikit-Learn, Spark, Flask, Spacy, LLMS\n",
            "Data Science: Numpy, Pandas, Matplotlib, Seaborn, Selenium, PowerBI, Tableau, Statistics, Excel, Data Management\n",
            "Others: AWS(S3, Athena, Glue) Git, GitHub, Canva \n",
            "SIH 2023 Winner\n",
            "Secured 1st place in the Software-Miscellaneous category at Smart India Hackathon 2023, a national-level competition\n",
            "inaugurated by Prime Minister Narendra Modi and organized by the Ministry of Education. Successfully addressed the Ministry of\n",
            "Coal India's problem statement 'Application of Image Analytics for Tree Enumeration for Diversion of Forest Land (1316)' using\n",
            "advanced techniques. Demonstrated dedication, expertise, and impactful problem-solving. \n",
            "Datazen (Tech Head)\n",
            "DataZen at Somaiya is a collaborative and dynamic community, under the Somaiya Vidyavihar University, committed to helping\n",
            "everyone understand, work with and solve problems using data regardless of their current knowledge and field.                                             Skills  \n",
            "Projects  \n",
            "Education  Experience  \n",
            "Achievements / Extra Curricular Activities  Developed a Stock Portfolio Manager employing Python, Pandas, NumPy, scikit-learn, SQLite, and Matplotlib.\n",
            "Designed to manage and analyze stock investments, the project provides comprehensive data storage, analysis, predictive\n",
            "modeling, and data visualization capabilities.Applied EMD, EEMD, and VMD techniques to develop precise wind power forecasting models, utilizing real-world datasets.\n",
            "Created predictive solutions that significantly contributed to informed decision-making in the field of renewable energy.Successfully Built a multilingual handwritten text detection and translation model with TensorFlow, OpenCV, Keras, and scikit-\n",
            "learn.\n",
            "Incorporated translation functionality to enable seamless cross-lingual communication.\n",
            "Hosted the models using Pyngrok and Flask.\n",
            "2021 – 2025 \n",
            "2019 – 2021   \n",
            "2008 – 2019 Vanrakshak | Flutter, Firebase, Flask, Google Maps, Python, ResNet50, Pytorch, AWS hosting | Gith  ub \n",
            "Engineered a CNN model for precise analysis of satellite imagery and aerial photographs, accurately detecting and identifying\n",
            "trees within designated forest areas.\n",
            "Integrated the model with Flutter using Flask, establishing a robust REST API and hosting it on AWS.\n",
            "Developed scripts to download satellite images, enabling tree species detection using photos of tree bark.\n",
            "Automated manual ground survey and paperwork processes, resulting in a significant reduction of 70% to 80%.Data Science Intern | DeepShape                                                                                                                                       February 2024\n",
            "Utilizing GANs and diffusion models, I create designs that align with brand identity and address specific market needs. My\n",
            "approach integrates emerging trends, ensuring innovative and targeted solutions. \n",
            "ML Research Intern | IIT Madras                                                                                                                                      December 2023\n",
            "Developing and executing a cutting-edge Neural Architecture Search methodology to fine-tune biLSTM layers, to achieve machine\n",
            "degradation prediction.\n",
            "Data Science Research Intern | KJSCE                                                                                                        September 2022- May 2023\n",
            "Implemented advanced techniques (EMD, EEMD, VMD) as a Data Science Research Intern at KJSCE.\n",
            "Developed precise wind power forecasting models, enhancing accuracy.\n",
            "Utilized real-world datasets to engineer impactful predictive solutions.\n",
            "Empowered informed decision-making in renewable energy through data-driven insights.\n",
            "ML Intern | KJSCE                                                                                                                                           November 2022 - June 2023\n",
            "Developed a robust multilingual handwritten text detection and translation model using TensorFlow, OpenCV, Keras, and scikit\n",
            "learn.\n",
            "                                                                     \n",
            "EDA LLM Tool | OpenAI, pandas agent, streamlit | Gith  ub\n",
            "Developed the EDA-LLM-APP, an intuitive application designed to simplify exploratory data analysis (EDA) for data analysts. Users\n",
            "can interact with datasets seamlessly, gaining valuable insights to drive informed decision-making efficiently.\n"
          ]
        }
      ]
    },
    {
      "cell_type": "code",
      "source": [
        "str(content)"
      ],
      "metadata": {
        "colab": {
          "base_uri": "https://localhost:8080/",
          "height": 608
        },
        "id": "amBrayA8CqqH",
        "outputId": "4ba1a77c-26c9-4c52-e382-24df5b52c787"
      },
      "execution_count": null,
      "outputs": [
        {
          "output_type": "execute_result",
          "data": {
            "text/plain": [
              "\"Vedant Hire\\nvedant.hire@somaiya.edu | +91 8828330196 | \\nMultilingual handwritten text detector and translator | TensorFlow, OpenCV, Keras and scikit-learn | Github  \\nWind Power prediction | VMD, EMD and EEMD(python and matlab) | Gith  ub \\nStock management portfolio| Flask, Tensorflow, CNN, OpenCV, Pillow, Scikit-learn | Gith  ub \\nBTech in IT & Honours (AI), CGPA: 8.34 / 10  \\nHSC 12th Board Examination, 82%, Ryan International \\nSSC 10 th Board Examination, 93%, Apeejay School NerulLinkedIn\\nLanguages: Python, R, C, SQL(MySQL)\\nMachine Learning/Ai: TensorFlow, PyTorch, Keras, OpenCV, Scikit-Learn, Spark, Flask, Spacy, LLMS\\nData Science: Numpy, Pandas, Matplotlib, Seaborn, Selenium, PowerBI, Tableau, Statistics, Excel, Data Management\\nOthers: AWS(S3, Athena, Glue) Git, GitHub, Canva \\nSIH 2023 Winner\\nSecured 1st place in the Software-Miscellaneous category at Smart India Hackathon 2023, a national-level competition\\ninaugurated by Prime Minister Narendra Modi and organized by the Ministry of Education. Successfully addressed the Ministry of\\nCoal India's problem statement 'Application of Image Analytics for Tree Enumeration for Diversion of Forest Land (1316)' using\\nadvanced techniques. Demonstrated dedication, expertise, and impactful problem-solving. \\nDatazen (Tech Head)\\nDataZen at Somaiya is a collaborative and dynamic community, under the Somaiya Vidyavihar University, committed to helping\\neveryone understand, work with and solve problems using data regardless of their current knowledge and field.                                             Skills  \\nProjects  \\nEducation  Experience  \\nAchievements / Extra Curricular Activities  Developed a Stock Portfolio Manager employing Python, Pandas, NumPy, scikit-learn, SQLite, and Matplotlib.\\nDesigned to manage and analyze stock investments, the project provides comprehensive data storage, analysis, predictive\\nmodeling, and data visualization capabilities.Applied EMD, EEMD, and VMD techniques to develop precise wind power forecasting models, utilizing real-world datasets.\\nCreated predictive solutions that significantly contributed to informed decision-making in the field of renewable energy.Successfully Built a multilingual handwritten text detection and translation model with TensorFlow, OpenCV, Keras, and scikit-\\nlearn.\\nIncorporated translation functionality to enable seamless cross-lingual communication.\\nHosted the models using Pyngrok and Flask.\\n2021 – 2025 \\n2019 – 2021   \\n2008 – 2019 Vanrakshak | Flutter, Firebase, Flask, Google Maps, Python, ResNet50, Pytorch, AWS hosting | Gith  ub \\nEngineered a CNN model for precise analysis of satellite imagery and aerial photographs, accurately detecting and identifying\\ntrees within designated forest areas.\\nIntegrated the model with Flutter using Flask, establishing a robust REST API and hosting it on AWS.\\nDeveloped scripts to download satellite images, enabling tree species detection using photos of tree bark.\\nAutomated manual ground survey and paperwork processes, resulting in a significant reduction of 70% to 80%.Data Science Intern | DeepShape                                                                                                                                       February 2024\\nUtilizing GANs and diffusion models, I create designs that align with brand identity and address specific market needs. My\\napproach integrates emerging trends, ensuring innovative and targeted solutions. \\nML Research Intern | IIT Madras                                                                                                                                      December 2023\\nDeveloping and executing a cutting-edge Neural Architecture Search methodology to fine-tune biLSTM layers, to achieve machine\\ndegradation prediction.\\nData Science Research Intern | KJSCE                                                                                                        September 2022- May 2023\\nImplemented advanced techniques (EMD, EEMD, VMD) as a Data Science Research Intern at KJSCE.\\nDeveloped precise wind power forecasting models, enhancing accuracy.\\nUtilized real-world datasets to engineer impactful predictive solutions.\\nEmpowered informed decision-making in renewable energy through data-driven insights.\\nML Intern | KJSCE                                                                                                                                           November 2022 - June 2023\\nDeveloped a robust multilingual handwritten text detection and translation model using TensorFlow, OpenCV, Keras, and scikit\\nlearn.\\n                                                                     \\nEDA LLM Tool | OpenAI, pandas agent, streamlit | Gith  ub\\nDeveloped the EDA-LLM-APP, an intuitive application designed to simplify exploratory data analysis (EDA) for data analysts. Users\\ncan interact with datasets seamlessly, gaining valuable insights to drive informed decision-making efficiently.\""
            ],
            "application/vnd.google.colaboratory.intrinsic+json": {
              "type": "string"
            }
          },
          "metadata": {},
          "execution_count": 83
        }
      ]
    },
    {
      "cell_type": "code",
      "source": [
        "content[:300]"
      ],
      "metadata": {
        "colab": {
          "base_uri": "https://localhost:8080/",
          "height": 70
        },
        "id": "Ypg19Yi-FZnG",
        "outputId": "0b2e4cc4-058d-49e8-d056-05503a05b963"
      },
      "execution_count": null,
      "outputs": [
        {
          "output_type": "execute_result",
          "data": {
            "text/plain": [
              "'Vedant Hire\\nvedant.hire@somaiya.edu | +91 8828330196 | \\nMultilingual handwritten text detector and translator | TensorFlow, OpenCV, Keras and scikit-learn | Github  \\nWind Power prediction | VMD, EMD and EEMD(python and matlab) | Gith  ub \\nStock management portfolio| Flask, Tensorflow, CNN, OpenCV, P'"
            ],
            "application/vnd.google.colaboratory.intrinsic+json": {
              "type": "string"
            }
          },
          "metadata": {},
          "execution_count": 92
        }
      ]
    },
    {
      "cell_type": "code",
      "source": [
        "sentence"
      ],
      "metadata": {
        "colab": {
          "base_uri": "https://localhost:8080/",
          "height": 278
        },
        "id": "T_o0TycUFW97",
        "outputId": "c208978f-073d-445f-b9a4-2fe301df626e"
      },
      "execution_count": null,
      "outputs": [
        {
          "output_type": "execute_result",
          "data": {
            "text/plain": [
              "\"Abhishek Jha\\nApplication Development Associate - Accenture\\n\\nBengaluru,\\n                Karnataka - Email me on Indeed: indeed.com/r/Abhishek-Jha/10e7a8cb732bc43a\\n\\n                \\n• To work for an organization which provides me the opportunity to improve\\n                my skills\\nand knowledge for my individual and company's growth in best possible\\n                ways.\\n\\nWilling to relocate to: Bangalore, Karnataka\\n\\nWORK EXPERIENCE\\n\\n                \\nApplication Development Associate\\n\\nAccenture -\\n\\nNovember 2017 to Present\\n\\n                \\nRole: Currently working on Chat-bot. Developing Backend Oracle PeopleSoft Queries\\n                \\nfor the Bot which will be triggered based on given input. Also, Training the bot\\n                for different possible\\nutterances (Both positive and negative), which will be\\n                given as\\ninput by the user.\\n\\nEDUCATION\\n\\nB.E in Information science and engineering\\n                \\n\\nB.v.b college of engineering and technology -  Hubli, Karnataka\\n\\nAugust\\n                2013 to June 2017\\n\\n12th in Mathematics\\n\\nWoodbine modern school\\n\\nApril 2011\\n                to March 2013\\n\\n10th\\n\\nKendriya Vidyalaya\\n\\nApril 2001 to March 2011\\n\\nSKILLS\\n                \\n\\nC (Less than 1 year), Database (Less than 1 year), Database Management\\n                (Less than 1 year),\\nDatabase Management System (Less than 1 year), Java (Less than 1 year)\\n                \\n\\nADDITIONAL INFORMATION\\n\\nTechnical Skills\\n\\nhttps://www.indeed.com/r/Abhishek-Jha/10e7a8cb732bc43a?isid=rex-download&ikw=download-top&co=IN\\n\\n\\n•\\n                Programming language: C, C++, Java\\n• Oracle PeopleSoft\\n• Internet Of Things\\n• Machine Learning\\n                \\n• Database Management System\\n• Computer Networks\\n• Operating System worked on: Linux,\\n                Windows, Mac\\n\\nNon - Technical Skills\\n\\n• Honest and Hard-Working\\n• Tolerant and\\n                Flexible to Different Situations\\n• Polite and Calm\\n• Team-Player\""
            ],
            "application/vnd.google.colaboratory.intrinsic+json": {
              "type": "string"
            }
          },
          "metadata": {},
          "execution_count": 86
        }
      ]
    },
    {
      "cell_type": "code",
      "source": [
        "result = pipe.fit(content, domain=\"resume\", labels=None)\n",
        "result"
      ],
      "metadata": {
        "colab": {
          "base_uri": "https://localhost:8080/"
        },
        "id": "G7EJc0ALBxZk",
        "outputId": "9e28e2d9-a830-4380-f823-905894b44ef2"
      },
      "execution_count": null,
      "outputs": [
        {
          "output_type": "stream",
          "name": "stderr",
          "text": [
            "100%|██████████| 1/1 [00:13<00:00, 13.88s/it]\n"
          ]
        },
        {
          "output_type": "execute_result",
          "data": {
            "text/plain": [
              "[{'text': '[{\"T\": \"Email\", \"E\": \"vedant.hire@somaiya.edu\"},\\n{\"T\": \"Phone Number\", \"E\": \"+91 8828330196\"},\\n{\"T\": \"Skill\", \"E\": \"Multilingual handwritten text detector and translator\"},\\n{\"T\": \"Skill\", \"E\": \"TensorFlow\"},\\n{\"T\": \"Skill\", \"E\": \"OpenCV\"},\\n{\"T\": \"Skill\", \"E\": \"Keras\"},\\n{\"T\": \"Skill\", \"E\": \"scikit-learn\"},\\n{\"T\": \"Skill\", \"E\": \"VMD\"},\\n{\"T\": \"Skill\", \"E\": \"EMD\"},\\n{\"T\": \"Skill\", \"E\": \"EEMD\"},\\n{\"T\": \"Skill\", \"E\": \"python\"},\\n{\"T\": \"Skill\", \"E\": \"matlab\"},\\n{\"T\": \"Skill\", \"E\": \"Flask\"},\\n{\"T\": \"Skill\", \"E\": \"Tensorflow\"},\\n{\"T\": \"Skill\", \"E\": \"CNN\"},\\n{\"T\": \"Skill\", \"E\": \"OpenCV\"},\\n{\"T\": \"Skill\", \"E\": \"Pillow\"},\\n{\"T\": \"Skill\", \"E\": \"Scikit-learn\"},\\n{\"T\": \"Degree\", \"E\": \"BTech in IT & Honours (AI), CGPA: 8.34 / 10\"},\\n{\"T\": \"Education\", \"E\": \"HSC 12th Board Examination, 82%, Ryan International\"},\\n{\"T\": \"Education\", \"E\": \"SSC 10 th Board Examination, 93%, Apeejay School NerulLinkedIn\"},\\n{\"T\": \"Language\", \"E\": \"Python\"},\\n{\"T\": \"Language\", \"E\": \"R\"},\\n{\"T\": \"Language\", \"E\": \"C\"},\\n{\"T\": \"Language\", \"E\": \"SQL(MySQL)\"},\\n{\"T\": \"Machine Learning/AI\", \"E\": \"TensorFlow\"},\\n{\"T\": \"Machine Learning/AI\", \"E\": \"PyTorch\"},\\n{\"T\": \"Machine Learning/AI\", \"E\": \"Keras\"},\\n{\"T\": \"Machine Learning/AI\", \"E\": \"OpenCV\"},\\n{\"T\": \"Machine Learning/AI\", \"E\": \"Scikit-Learn\"},\\n{\"T\": \"Machine Learning/AI\", \"E\": \"Spark\"},\\n{\"T\": \"Machine Learning/AI\", \"E\": \"Flask\"},\\n{\"T\": \"Machine Learning/AI\", \"E\": \"Spacy\"},\\n{\"T\": \"Machine Learning/AI\", \"E\": \"LLMS\"},\\n{\"T\": \"Data Science\", \"E\": \"Numpy\"},\\n{\"T\": \"Data Science\", \"E\": \"Pandas\"},\\n{\"T\": \"Data Science\", \"E\": \"Matplotlib\"},\\n{\"T\": \"Data Science\", \"E\": \"Seaborn\"},\\n{\"T\": \"Data Science\", \"E\": \"Selenium\"},\\n{\"T\": \"Data Science\", \"E\": \"PowerBI\"},\\n{\"T\": \"Data Science\", \"E\": \"Tableau\"},\\n{\"T\": \"Data Science\", \"E\": \"Statistics\"},\\n{\"T\": \"Data Science\", \"E\": \"Excel\"},\\n{\"T\": \"Data Science\", \"E\": \"Data Management\"},\\n{\"T\": \"Others\", \"E\": \"AWS(S3, Athena, Glue)\"},\\n{\"T\": \"Others\", \"E\": \"Git\"},\\n{\"T\": \"Others\", \"E\": \"GitHub\"},\\n{\"T\": \"Others\", \"E\": \"Canva\"},\\n{\"T\": \"Competition\", \"E\": \"SIH 2023 Winner\"},\\n{\"T\": \"Competition\", \"E\": \"Secured 1st place in the Software-Miscellaneous category at Smart India Hackathon 2023\"},\\n{\"T\": \"Organization\", \"E\": \"Datazen (Tech Head)\"},\\n{\"T\": \"Organization\", \"E\": \"DataZen at Somaiya\"},\\n{\"T\": \"Organization\", \"E\": \"Somaiya Vidyavihar University\"},\\n{\"T\": \"Group\", \"E\": \"Skills\"},\\n{\"T\": \"Group\", \"E\": \"Projects\"},\\n{\"T\": \"Group\", \"E\": \"Education\"},\\n{\"T\": \"Group\", \"E\": \"Experience\"},\\n{\"T\": \"Group\", \"E\": \"Achievements / Extra Curricular Activities\"}]',\n",
              "  'usage': {'prompt_tokens': 1125,\n",
              "   'completion_tokens': 901,\n",
              "   'total_tokens': 2026},\n",
              "  'parsed': {'status': 'completed',\n",
              "   'object_type': list,\n",
              "   'data': {'completion': [{'T': 'Email', 'E': 'vedant.hire@somaiya.edu'},\n",
              "     {'T': 'Phone Number', 'E': '+91 8828330196'},\n",
              "     {'T': 'Skill',\n",
              "      'E': 'Multilingual handwritten text detector and translator'},\n",
              "     {'T': 'Skill', 'E': 'TensorFlow'},\n",
              "     {'T': 'Skill', 'E': 'OpenCV'},\n",
              "     {'T': 'Skill', 'E': 'Keras'},\n",
              "     {'T': 'Skill', 'E': 'scikit-learn'},\n",
              "     {'T': 'Skill', 'E': 'VMD'},\n",
              "     {'T': 'Skill', 'E': 'EMD'},\n",
              "     {'T': 'Skill', 'E': 'EEMD'},\n",
              "     {'T': 'Skill', 'E': 'python'},\n",
              "     {'T': 'Skill', 'E': 'matlab'},\n",
              "     {'T': 'Skill', 'E': 'Flask'},\n",
              "     {'T': 'Skill', 'E': 'Tensorflow'},\n",
              "     {'T': 'Skill', 'E': 'CNN'},\n",
              "     {'T': 'Skill', 'E': 'OpenCV'},\n",
              "     {'T': 'Skill', 'E': 'Pillow'},\n",
              "     {'T': 'Skill', 'E': 'Scikit-learn'},\n",
              "     {'T': 'Degree', 'E': 'BTech in IT & Honours (AI), CGPA: 8.34 / 10'},\n",
              "     {'T': 'Education',\n",
              "      'E': 'HSC 12th Board Examination, 82%, Ryan International'},\n",
              "     {'T': 'Education',\n",
              "      'E': 'SSC 10 th Board Examination, 93%, Apeejay School NerulLinkedIn'},\n",
              "     {'T': 'Language', 'E': 'Python'},\n",
              "     {'T': 'Language', 'E': 'R'},\n",
              "     {'T': 'Language', 'E': 'C'},\n",
              "     {'T': 'Language', 'E': 'SQL(MySQL)'},\n",
              "     {'T': 'Machine Learning/AI', 'E': 'TensorFlow'},\n",
              "     {'T': 'Machine Learning/AI', 'E': 'PyTorch'},\n",
              "     {'T': 'Machine Learning/AI', 'E': 'Keras'},\n",
              "     {'T': 'Machine Learning/AI', 'E': 'OpenCV'},\n",
              "     {'T': 'Machine Learning/AI', 'E': 'Scikit-Learn'},\n",
              "     {'T': 'Machine Learning/AI', 'E': 'Spark'},\n",
              "     {'T': 'Machine Learning/AI', 'E': 'Flask'},\n",
              "     {'T': 'Machine Learning/AI', 'E': 'Spacy'},\n",
              "     {'T': 'Machine Learning/AI', 'E': 'LLMS'},\n",
              "     {'T': 'Data Science', 'E': 'Numpy'},\n",
              "     {'T': 'Data Science', 'E': 'Pandas'},\n",
              "     {'T': 'Data Science', 'E': 'Matplotlib'},\n",
              "     {'T': 'Data Science', 'E': 'Seaborn'},\n",
              "     {'T': 'Data Science', 'E': 'Selenium'},\n",
              "     {'T': 'Data Science', 'E': 'PowerBI'},\n",
              "     {'T': 'Data Science', 'E': 'Tableau'},\n",
              "     {'T': 'Data Science', 'E': 'Statistics'},\n",
              "     {'T': 'Data Science', 'E': 'Excel'},\n",
              "     {'T': 'Data Science', 'E': 'Data Management'},\n",
              "     {'T': 'Others', 'E': 'AWS(S3, Athena, Glue)'},\n",
              "     {'T': 'Others', 'E': 'Git'},\n",
              "     {'T': 'Others', 'E': 'GitHub'},\n",
              "     {'T': 'Others', 'E': 'Canva'},\n",
              "     {'T': 'Competition', 'E': 'SIH 2023 Winner'},\n",
              "     {'T': 'Competition',\n",
              "      'E': 'Secured 1st place in the Software-Miscellaneous category at Smart India Hackathon 2023'},\n",
              "     {'T': 'Organization', 'E': 'Datazen (Tech Head)'},\n",
              "     {'T': 'Organization', 'E': 'DataZen at Somaiya'},\n",
              "     {'T': 'Organization', 'E': 'Somaiya Vidyavihar University'},\n",
              "     {'T': 'Group', 'E': 'Skills'},\n",
              "     {'T': 'Group', 'E': 'Projects'},\n",
              "     {'T': 'Group', 'E': 'Education'},\n",
              "     {'T': 'Group', 'E': 'Experience'},\n",
              "     {'T': 'Group', 'E': 'Achievements / Extra Curricular Activities'}],\n",
              "    'suggestions': []}}}]"
            ]
          },
          "metadata": {},
          "execution_count": 94
        }
      ]
    },
    {
      "cell_type": "code",
      "source": [
        "resume_content = result[0]['parsed']['data']['completion']\n",
        "resume_content"
      ],
      "metadata": {
        "colab": {
          "base_uri": "https://localhost:8080/"
        },
        "id": "93pmkvTRMQSp",
        "outputId": "c66c7b7a-2e9d-47dd-de33-3d67ab04c76c"
      },
      "execution_count": null,
      "outputs": [
        {
          "output_type": "execute_result",
          "data": {
            "text/plain": [
              "[{'T': 'Email', 'E': 'vedant.hire@somaiya.edu'},\n",
              " {'T': 'Phone Number', 'E': '+91 8828330196'},\n",
              " {'T': 'Skill', 'E': 'Multilingual handwritten text detector and translator'},\n",
              " {'T': 'Skill', 'E': 'TensorFlow'},\n",
              " {'T': 'Skill', 'E': 'OpenCV'},\n",
              " {'T': 'Skill', 'E': 'Keras'},\n",
              " {'T': 'Skill', 'E': 'scikit-learn'},\n",
              " {'T': 'Skill', 'E': 'VMD'},\n",
              " {'T': 'Skill', 'E': 'EMD'},\n",
              " {'T': 'Skill', 'E': 'EEMD'},\n",
              " {'T': 'Skill', 'E': 'python'},\n",
              " {'T': 'Skill', 'E': 'matlab'},\n",
              " {'T': 'Skill', 'E': 'Flask'},\n",
              " {'T': 'Skill', 'E': 'Tensorflow'},\n",
              " {'T': 'Skill', 'E': 'CNN'},\n",
              " {'T': 'Skill', 'E': 'OpenCV'},\n",
              " {'T': 'Skill', 'E': 'Pillow'},\n",
              " {'T': 'Skill', 'E': 'Scikit-learn'},\n",
              " {'T': 'Degree', 'E': 'BTech in IT & Honours (AI), CGPA: 8.34 / 10'},\n",
              " {'T': 'Education',\n",
              "  'E': 'HSC 12th Board Examination, 82%, Ryan International'},\n",
              " {'T': 'Education',\n",
              "  'E': 'SSC 10 th Board Examination, 93%, Apeejay School NerulLinkedIn'},\n",
              " {'T': 'Language', 'E': 'Python'},\n",
              " {'T': 'Language', 'E': 'R'},\n",
              " {'T': 'Language', 'E': 'C'},\n",
              " {'T': 'Language', 'E': 'SQL(MySQL)'},\n",
              " {'T': 'Machine Learning/AI', 'E': 'TensorFlow'},\n",
              " {'T': 'Machine Learning/AI', 'E': 'PyTorch'},\n",
              " {'T': 'Machine Learning/AI', 'E': 'Keras'},\n",
              " {'T': 'Machine Learning/AI', 'E': 'OpenCV'},\n",
              " {'T': 'Machine Learning/AI', 'E': 'Scikit-Learn'},\n",
              " {'T': 'Machine Learning/AI', 'E': 'Spark'},\n",
              " {'T': 'Machine Learning/AI', 'E': 'Flask'},\n",
              " {'T': 'Machine Learning/AI', 'E': 'Spacy'},\n",
              " {'T': 'Machine Learning/AI', 'E': 'LLMS'},\n",
              " {'T': 'Data Science', 'E': 'Numpy'},\n",
              " {'T': 'Data Science', 'E': 'Pandas'},\n",
              " {'T': 'Data Science', 'E': 'Matplotlib'},\n",
              " {'T': 'Data Science', 'E': 'Seaborn'},\n",
              " {'T': 'Data Science', 'E': 'Selenium'},\n",
              " {'T': 'Data Science', 'E': 'PowerBI'},\n",
              " {'T': 'Data Science', 'E': 'Tableau'},\n",
              " {'T': 'Data Science', 'E': 'Statistics'},\n",
              " {'T': 'Data Science', 'E': 'Excel'},\n",
              " {'T': 'Data Science', 'E': 'Data Management'},\n",
              " {'T': 'Others', 'E': 'AWS(S3, Athena, Glue)'},\n",
              " {'T': 'Others', 'E': 'Git'},\n",
              " {'T': 'Others', 'E': 'GitHub'},\n",
              " {'T': 'Others', 'E': 'Canva'},\n",
              " {'T': 'Competition', 'E': 'SIH 2023 Winner'},\n",
              " {'T': 'Competition',\n",
              "  'E': 'Secured 1st place in the Software-Miscellaneous category at Smart India Hackathon 2023'},\n",
              " {'T': 'Organization', 'E': 'Datazen (Tech Head)'},\n",
              " {'T': 'Organization', 'E': 'DataZen at Somaiya'},\n",
              " {'T': 'Organization', 'E': 'Somaiya Vidyavihar University'},\n",
              " {'T': 'Group', 'E': 'Skills'},\n",
              " {'T': 'Group', 'E': 'Projects'},\n",
              " {'T': 'Group', 'E': 'Education'},\n",
              " {'T': 'Group', 'E': 'Experience'},\n",
              " {'T': 'Group', 'E': 'Achievements / Extra Curricular Activities'}]"
            ]
          },
          "metadata": {},
          "execution_count": 101
        }
      ]
    },
    {
      "cell_type": "code",
      "source": [
        "trial_data = {}\n",
        "\n",
        "for items in resume_content:\n",
        "  key = items.get('T')\n",
        "  value = items.get('E')\n",
        "\n",
        "  if key in trial_data:\n",
        "    if isinstance(trial_data[key],list):\n",
        "      trial_data[key].append(value)\n",
        "    else:\n",
        "      trial_data[key] = [trial_data[key],value]\n",
        "  else:\n",
        "    trial_data[key] = value"
      ],
      "metadata": {
        "id": "1WwwVkJcLCuo"
      },
      "execution_count": null,
      "outputs": []
    },
    {
      "cell_type": "code",
      "source": [
        "trial_data"
      ],
      "metadata": {
        "colab": {
          "base_uri": "https://localhost:8080/"
        },
        "id": "Fsm0qKdxLuHj",
        "outputId": "11b3f009-9d66-49a6-fcd4-0d350c9912f2"
      },
      "execution_count": null,
      "outputs": [
        {
          "output_type": "execute_result",
          "data": {
            "text/plain": [
              "{'Email': 'vedant.hire@somaiya.edu',\n",
              " 'Phone Number': '+91 8828330196',\n",
              " 'Skill': ['Multilingual handwritten text detector and translator',\n",
              "  'TensorFlow',\n",
              "  'OpenCV',\n",
              "  'Keras',\n",
              "  'scikit-learn',\n",
              "  'VMD',\n",
              "  'EMD',\n",
              "  'EEMD',\n",
              "  'python',\n",
              "  'matlab',\n",
              "  'Flask',\n",
              "  'Tensorflow',\n",
              "  'CNN',\n",
              "  'OpenCV',\n",
              "  'Pillow',\n",
              "  'Scikit-learn'],\n",
              " 'Degree': 'BTech in IT & Honours (AI), CGPA: 8.34 / 10',\n",
              " 'Education': ['HSC 12th Board Examination, 82%, Ryan International',\n",
              "  'SSC 10 th Board Examination, 93%, Apeejay School NerulLinkedIn'],\n",
              " 'Language': ['Python', 'R', 'C', 'SQL(MySQL)'],\n",
              " 'Machine Learning/AI': ['TensorFlow',\n",
              "  'PyTorch',\n",
              "  'Keras',\n",
              "  'OpenCV',\n",
              "  'Scikit-Learn',\n",
              "  'Spark',\n",
              "  'Flask',\n",
              "  'Spacy',\n",
              "  'LLMS'],\n",
              " 'Data Science': ['Numpy',\n",
              "  'Pandas',\n",
              "  'Matplotlib',\n",
              "  'Seaborn',\n",
              "  'Selenium',\n",
              "  'PowerBI',\n",
              "  'Tableau',\n",
              "  'Statistics',\n",
              "  'Excel',\n",
              "  'Data Management'],\n",
              " 'Others': ['AWS(S3, Athena, Glue)', 'Git', 'GitHub', 'Canva'],\n",
              " 'Competition': ['SIH 2023 Winner',\n",
              "  'Secured 1st place in the Software-Miscellaneous category at Smart India Hackathon 2023'],\n",
              " 'Organization': ['Datazen (Tech Head)',\n",
              "  'DataZen at Somaiya',\n",
              "  'Somaiya Vidyavihar University'],\n",
              " 'Group': ['Skills',\n",
              "  'Projects',\n",
              "  'Education',\n",
              "  'Experience',\n",
              "  'Achievements / Extra Curricular Activities']}"
            ]
          },
          "metadata": {},
          "execution_count": 105
        }
      ]
    },
    {
      "cell_type": "code",
      "source": [
        "result"
      ],
      "metadata": {
        "colab": {
          "base_uri": "https://localhost:8080/"
        },
        "id": "voZR3A58B2Vk",
        "outputId": "fc149204-2f93-4f77-c922-e553cce32be5"
      },
      "execution_count": null,
      "outputs": [
        {
          "output_type": "execute_result",
          "data": {
            "text/plain": [
              "[{'text': '[{\"T\": \"Name\", \"E\": \"Abhishek Jha\"}, {\"T\": \"Job Title\", \"E\": \"Application Development Associate\"}, {\"T\": \"Company\", \"E\": \"Accenture\"}, {\"T\": \"Location\", \"E\": \"Bengaluru, Karnataka\"}, {\"T\": \"Location\", \"E\": \"Bangalore, Karnataka\"}, {\"T\": \"Role\", \"E\": \"Chat-bot Developer\"}, {\"T\": \"Skill\", \"E\": \"C\"}, {\"T\": \"Skill\", \"E\": \"Database\"}, {\"T\": \"Skill\", \"E\": \"Database Management\"}, {\"T\": \"Skill\", \"E\": \"Database Management System\"}, {\"T\": \"Skill\", \"E\": \"Java\"}, {\"T\": \"Education\", \"E\": \"B.E in Information science and engineering\"}, {\"T\": \"Education\", \"E\": \"B.v.b college of engineering and technology, Hubli, Karnataka\"}, {\"T\": \"Education\", \"E\": \"12th in Mathematics, Woodbine modern school\"}, {\"T\": \"Education\", \"E\": \"10th, Kendriya Vidyalaya\"}, {\"T\": \"Skill\", \"E\": \"Programming language: C, C++, Java\"}, {\"T\": \"Skill\", \"E\": \"Oracle PeopleSoft\"}, {\"T\": \"Skill\", \"E\": \"Internet Of Things\"}, {\"T\": \"Skill\", \"E\": \"Machine Learning\"}, {\"T\": \"Skill\", \"E\": \"Database Management System\"}, {\"T\": \"Skill\", \"E\": \"Computer Networks\"}, {\"T\": \"Skill\", \"E\": \"Operating System worked on: Linux, Windows, Mac\"}, {\"T\": \"Non-Technical Skill\", \"E\": \"Honest and Hard-Working\"}, {\"T\": \"Non-Technical Skill\", \"E\": \"Tolerant and Flexible to Different Situations\"}, {\"T\": \"Non-Technical Skill\", \"E\": \"Polite and Calm\"}, {\"T\": \"Non-Technical Skill\", \"E\": \"Team-Player\"}, {\"branch\": \"Application Development Associate\", \"group\": \"Accenture\"}]',\n",
              "  'usage': {'prompt_tokens': 585,\n",
              "   'completion_tokens': 439,\n",
              "   'total_tokens': 1024},\n",
              "  'parsed': {'status': 'completed',\n",
              "   'object_type': list,\n",
              "   'data': {'completion': [{'T': 'Name', 'E': 'Abhishek Jha'},\n",
              "     {'T': 'Job Title', 'E': 'Application Development Associate'},\n",
              "     {'T': 'Company', 'E': 'Accenture'},\n",
              "     {'T': 'Location', 'E': 'Bengaluru, Karnataka'},\n",
              "     {'T': 'Location', 'E': 'Bangalore, Karnataka'},\n",
              "     {'T': 'Role', 'E': 'Chat-bot Developer'},\n",
              "     {'T': 'Skill', 'E': 'C'},\n",
              "     {'T': 'Skill', 'E': 'Database'},\n",
              "     {'T': 'Skill', 'E': 'Database Management'},\n",
              "     {'T': 'Skill', 'E': 'Database Management System'},\n",
              "     {'T': 'Skill', 'E': 'Java'},\n",
              "     {'T': 'Education', 'E': 'B.E in Information science and engineering'},\n",
              "     {'T': 'Education',\n",
              "      'E': 'B.v.b college of engineering and technology, Hubli, Karnataka'},\n",
              "     {'T': 'Education', 'E': '12th in Mathematics, Woodbine modern school'},\n",
              "     {'T': 'Education', 'E': '10th, Kendriya Vidyalaya'},\n",
              "     {'T': 'Skill', 'E': 'Programming language: C, C++, Java'},\n",
              "     {'T': 'Skill', 'E': 'Oracle PeopleSoft'},\n",
              "     {'T': 'Skill', 'E': 'Internet Of Things'},\n",
              "     {'T': 'Skill', 'E': 'Machine Learning'},\n",
              "     {'T': 'Skill', 'E': 'Database Management System'},\n",
              "     {'T': 'Skill', 'E': 'Computer Networks'},\n",
              "     {'T': 'Skill', 'E': 'Operating System worked on: Linux, Windows, Mac'},\n",
              "     {'T': 'Non-Technical Skill', 'E': 'Honest and Hard-Working'},\n",
              "     {'T': 'Non-Technical Skill',\n",
              "      'E': 'Tolerant and Flexible to Different Situations'},\n",
              "     {'T': 'Non-Technical Skill', 'E': 'Polite and Calm'},\n",
              "     {'T': 'Non-Technical Skill', 'E': 'Team-Player'},\n",
              "     {'branch': 'Application Development Associate', 'group': 'Accenture'}],\n",
              "    'suggestions': []}}}]"
            ]
          },
          "metadata": {},
          "execution_count": 76
        }
      ]
    },
    {
      "cell_type": "code",
      "source": [],
      "metadata": {
        "id": "g3z8otICNw45"
      },
      "execution_count": null,
      "outputs": []
    },
    {
      "cell_type": "code",
      "source": [],
      "metadata": {
        "id": "y2XV7l5V7W7f"
      },
      "execution_count": null,
      "outputs": []
    },
    {
      "cell_type": "code",
      "source": [],
      "metadata": {
        "id": "YGndve_h7W5q"
      },
      "execution_count": null,
      "outputs": []
    },
    {
      "cell_type": "code",
      "source": [],
      "metadata": {
        "id": "lhx6LdyP7W3U"
      },
      "execution_count": null,
      "outputs": []
    },
    {
      "cell_type": "code",
      "source": [],
      "metadata": {
        "id": "v7uTAu-b7W1A"
      },
      "execution_count": null,
      "outputs": []
    }
  ],
  "metadata": {
    "colab": {
      "provenance": []
    },
    "kernelspec": {
      "display_name": "Python 3",
      "name": "python3"
    },
    "language_info": {
      "name": "python"
    }
  },
  "nbformat": 4,
  "nbformat_minor": 0
}