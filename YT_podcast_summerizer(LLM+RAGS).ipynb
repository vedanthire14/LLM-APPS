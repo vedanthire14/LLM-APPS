{
  "nbformat": 4,
  "nbformat_minor": 0,
  "metadata": {
    "colab": {
      "provenance": []
    },
    "kernelspec": {
      "name": "python3",
      "display_name": "Python 3"
    },
    "language_info": {
      "name": "python"
    }
  },
  "cells": [
    {
      "cell_type": "markdown",
      "source": [
        "#podcast summarizer"
      ],
      "metadata": {
        "id": "02WlRy4GNlLX"
      }
    },
    {
      "cell_type": "code",
      "source": [
        "!pip install -r requirements.txt"
      ],
      "metadata": {
        "id": "YZ-Vd4SanWU-"
      },
      "execution_count": null,
      "outputs": []
    },
    {
      "cell_type": "code",
      "source": [
        "import os\n",
        "os.environ[\"OPENAI_API_KEY\"] = \"\""
      ],
      "metadata": {
        "id": "7Hd_cQV1KLB6"
      },
      "execution_count": null,
      "outputs": []
    },
    {
      "cell_type": "code",
      "source": [
        "# !pip install langchain"
      ],
      "metadata": {
        "id": "txokSqhEnWHa"
      },
      "execution_count": null,
      "outputs": []
    },
    {
      "cell_type": "code",
      "source": [
        "!pip install langchain --upgrade"
      ],
      "metadata": {
        "id": "850n0bK-H6AB"
      },
      "execution_count": null,
      "outputs": []
    },
    {
      "cell_type": "code",
      "source": [
        "# !pip install openai"
      ],
      "metadata": {
        "id": "bFYM34Ue67HF"
      },
      "execution_count": null,
      "outputs": []
    },
    {
      "cell_type": "code",
      "source": [
        "!pip install openai --upgrade"
      ],
      "metadata": {
        "id": "8-ZixdQ-xS0s"
      },
      "execution_count": null,
      "outputs": []
    },
    {
      "cell_type": "code",
      "source": [
        "# from langchain import OpenAI\n",
        "from langchain.chat_models import ChatOpenAI\n",
        "from langchain.chains.conversation.memory import ConversationBufferWindowMemory\n",
        "from langchain.tools import BaseTool\n",
        "from langchain.agents import Tool\n",
        "from langchain.agents import initialize_agent\n",
        "from langchain_core.output_parsers import StrOutputParser"
      ],
      "metadata": {
        "id": "3s6FtO-0SCks"
      },
      "execution_count": null,
      "outputs": []
    },
    {
      "cell_type": "code",
      "source": [
        "llm  = ChatOpenAI(model_name = 'gpt-3.5-turbo',temperature=0)\n",
        "llm.invoke('what 4+4?')"
      ],
      "metadata": {
        "colab": {
          "base_uri": "https://localhost:8080/"
        },
        "id": "RVGQ1PFXKK9_",
        "outputId": "1f833fcb-b013-4b93-850b-9725314df4cd"
      },
      "execution_count": null,
      "outputs": [
        {
          "output_type": "stream",
          "name": "stderr",
          "text": [
            "/usr/local/lib/python3.10/dist-packages/langchain_core/_api/deprecation.py:117: LangChainDeprecationWarning: The class `langchain_community.chat_models.openai.ChatOpenAI` was deprecated in langchain-community 0.0.10 and will be removed in 0.2.0. An updated version of the class exists in the langchain-openai package and should be used instead. To use it run `pip install -U langchain-openai` and import as `from langchain_openai import ChatOpenAI`.\n",
            "  warn_deprecated(\n"
          ]
        },
        {
          "output_type": "execute_result",
          "data": {
            "text/plain": [
              "AIMessage(content='4 + 4 = 8', response_metadata={'token_usage': {'completion_tokens': 7, 'prompt_tokens': 13, 'total_tokens': 20}, 'model_name': 'gpt-3.5-turbo', 'system_fingerprint': 'fp_c2295e73ad', 'finish_reason': 'stop', 'logprobs': None}, id='run-e8d299d1-fd99-4128-b2a2-e4a6580a4eb4-0')"
            ]
          },
          "metadata": {},
          "execution_count": 3
        }
      ]
    },
    {
      "cell_type": "code",
      "source": [
        "parser = StrOutputParser()\n",
        "chain = llm | parser\n",
        "chain.invoke('what is 4+4?')"
      ],
      "metadata": {
        "id": "i23yZO2EKK7_",
        "colab": {
          "base_uri": "https://localhost:8080/",
          "height": 35
        },
        "outputId": "235ef73a-ece9-4a6d-9006-50177dcd7720"
      },
      "execution_count": null,
      "outputs": [
        {
          "output_type": "execute_result",
          "data": {
            "text/plain": [
              "'4 + 4 = 8'"
            ],
            "application/vnd.google.colaboratory.intrinsic+json": {
              "type": "string"
            }
          },
          "metadata": {},
          "execution_count": 4
        }
      ]
    },
    {
      "cell_type": "code",
      "source": [
        "from langchain.prompts import ChatPromptTemplate\n",
        "\n",
        "template = \"\"\" answer the question based on the context below, if you cant answer the question, reply \"i dont know\".\n",
        "Context:{context}\n",
        "question:{question}\n",
        "\"\"\"\n",
        "\n",
        "prompt = ChatPromptTemplate.from_template(template)\n",
        "prompt.format(context=\"x is m's sister\",question=\"who is s's sister?\")"
      ],
      "metadata": {
        "id": "hcRvpyfsKK6C",
        "colab": {
          "base_uri": "https://localhost:8080/",
          "height": 52
        },
        "outputId": "81451308-ba8c-447f-bcf0-921d5a326d77"
      },
      "execution_count": null,
      "outputs": [
        {
          "output_type": "execute_result",
          "data": {
            "text/plain": [
              "'Human:  answer the question based on the context below, if you cant answer the question, reply \"i dont know\".\\nContext:x is m\\'s sister\\nquestion:who is s\\'s sister?\\n'"
            ],
            "application/vnd.google.colaboratory.intrinsic+json": {
              "type": "string"
            }
          },
          "metadata": {},
          "execution_count": 5
        }
      ]
    },
    {
      "cell_type": "code",
      "source": [
        "chain = prompt | llm | parser\n",
        "\n",
        "chain.invoke({\n",
        "    \"context\":\"x is m's sister\",\n",
        "    \"question\":\"who is x's sister?\"\n",
        "})"
      ],
      "metadata": {
        "colab": {
          "base_uri": "https://localhost:8080/",
          "height": 35
        },
        "id": "B0HiZBBRYIlF",
        "outputId": "c1c24336-f9b3-44d8-8874-5b5bcae8ecc8"
      },
      "execution_count": null,
      "outputs": [
        {
          "output_type": "execute_result",
          "data": {
            "text/plain": [
              "'m'"
            ],
            "application/vnd.google.colaboratory.intrinsic+json": {
              "type": "string"
            }
          },
          "metadata": {},
          "execution_count": 6
        }
      ]
    },
    {
      "cell_type": "code",
      "source": [
        "translation_prompt = ChatPromptTemplate.from_template(\n",
        "    \"translate {answer} to {language}\"\n",
        "\n",
        ")"
      ],
      "metadata": {
        "id": "W2j0Qh6naZ06"
      },
      "execution_count": null,
      "outputs": []
    },
    {
      "cell_type": "code",
      "source": [
        "from operator import itemgetter\n",
        "\n",
        "translation_chain = (\n",
        "    {\"answer\":chain, \"language\":itemgetter(\"language\")} | translation_prompt | llm | parser\n",
        ")\n",
        "\n",
        "translation_chain.invoke(\n",
        "    {\n",
        "        \"context\":\"x is m's sister\",\n",
        "        \"question\":\"who is x's sister\",\n",
        "        \"language\":\"spanish\"\n",
        "    }\n",
        ")\n"
      ],
      "metadata": {
        "colab": {
          "base_uri": "https://localhost:8080/",
          "height": 35
        },
        "id": "h5dm40V4aZy0",
        "outputId": "4572ab17-9558-4035-e793-262eabe43c95"
      },
      "execution_count": null,
      "outputs": [
        {
          "output_type": "execute_result",
          "data": {
            "text/plain": [
              "'m translates to \"metros\" in Spanish.'"
            ],
            "application/vnd.google.colaboratory.intrinsic+json": {
              "type": "string"
            }
          },
          "metadata": {},
          "execution_count": 8
        }
      ]
    },
    {
      "cell_type": "code",
      "source": [
        "!pip install whisper"
      ],
      "metadata": {
        "colab": {
          "base_uri": "https://localhost:8080/"
        },
        "id": "KlYPMSSkle7n",
        "outputId": "3f389a81-a261-4466-dc84-b5eb07fefacd"
      },
      "execution_count": null,
      "outputs": [
        {
          "output_type": "stream",
          "name": "stdout",
          "text": [
            "Collecting whisper\n",
            "  Downloading whisper-1.1.10.tar.gz (42 kB)\n",
            "\u001b[?25l     \u001b[90m━━━━━━━━━━━━━━━━━━━━━━━━━━━━━━━━━━━━━━━━\u001b[0m \u001b[32m0.0/42.8 kB\u001b[0m \u001b[31m?\u001b[0m eta \u001b[36m-:--:--\u001b[0m\r\u001b[2K     \u001b[90m━━━━━━━━━━━━━━━━━━━━━━━━━━━━━━━━━━━━━━━━\u001b[0m \u001b[32m42.8/42.8 kB\u001b[0m \u001b[31m1.7 MB/s\u001b[0m eta \u001b[36m0:00:00\u001b[0m\n",
            "\u001b[?25h  Preparing metadata (setup.py) ... \u001b[?25l\u001b[?25hdone\n",
            "Requirement already satisfied: six in /usr/local/lib/python3.10/dist-packages (from whisper) (1.16.0)\n",
            "Building wheels for collected packages: whisper\n",
            "  Building wheel for whisper (setup.py) ... \u001b[?25l\u001b[?25hdone\n",
            "  Created wheel for whisper: filename=whisper-1.1.10-py3-none-any.whl size=41120 sha256=d9bfc0165d248c672310cbf0349c16a398f3e5e0535e221d61fefc44f18fd414\n",
            "  Stored in directory: /root/.cache/pip/wheels/aa/7c/1d/015619716e2facae6631312503baf3c3220e6a9a3508cb14b6\n",
            "Successfully built whisper\n",
            "Installing collected packages: whisper\n",
            "Successfully installed whisper-1.1.10\n"
          ]
        }
      ]
    },
    {
      "cell_type": "markdown",
      "source": [
        "#getting the transcript of the YT video"
      ],
      "metadata": {
        "id": "GF3-nr3mvuBk"
      }
    },
    {
      "cell_type": "code",
      "source": [
        "import tempfile\n",
        "import whisper\n",
        "from pytube import YouTube\n",
        "\n",
        "\n",
        "\n",
        "if not os.path.exists(\"transcription1.txt\"):\n",
        "\n",
        "    youtube = YouTube('https://www.youtube.com/watch?v=e20l16WP1ZU&pp=ygUOMzAgbWluIHBvZGNhc3Q%3D')\n",
        "    audio = youtube.streams.filter(only_audio=True).first()\n",
        "    whisper_model = whisper.load_model(\"base\")\n",
        "\n",
        "    with tempfile.TemporaryDirectory() as tmpdir:\n",
        "        file = audio.download(output_path=tmpdir)\n",
        "        transcription = whisper_model.transcribe(file, fp16=False)[\"text\"].strip()\n",
        "\n",
        "        with open(\"transcription.txt\", \"w\") as file:\n",
        "            file.write(transcription)"
      ],
      "metadata": {
        "id": "GEtrCxuBAhb_"
      },
      "execution_count": null,
      "outputs": []
    },
    {
      "cell_type": "code",
      "source": [
        "with open(\"transcription.txt\",\"r\") as f:\n",
        "  data = f.read()\n",
        "print(data)"
      ],
      "metadata": {
        "id": "DA9tWHqPaZuE",
        "colab": {
          "base_uri": "https://localhost:8080/"
        },
        "outputId": "a05868f2-1b6b-4b89-ae58-0189672d224d"
      },
      "execution_count": null,
      "outputs": [
        {
          "output_type": "stream",
          "name": "stdout",
          "text": [
            "Subscribers don't matter, views don't matter. Ask how can I make my videos better. Do that every single day for years. Everyone can have fun making videos, turning into a job, that's great. But you should be happy making videos, never making a dime off of it. The videos that I've made that are the best, I did it because I was so passionate, and I saw an opportunity to make something that felt like more than just like a YouTube video that I wanted to get views. Even a flop is going to do well long term. Your fans are your focus group. And if you don't listen to them, you're not going to be a successful creator long term. I waited 10 years to finally post something. I realized, oh my gosh, I hate doing this. Putting on makeup, taking it off, and then putting it on again. Oh my gosh, I hated it. It took me 10 years to figure out that the niche I thought I wanted to do was actually not what I wanted to do at all. I wasn't ready, I didn't know all the steps. I didn't have all the right answers. I don't think I'm fully ready. You're not. You don't have to be great to start, but you have to start to be great. What do you think gets us to a million subscribers? Well, subscribers is an arbitrary number. Okay, so a million views. No, you should ask me, what helps us make the best videos possible? That's the only question you should ask me. Subscribers don't matter, views don't matter. I mean, they do, but all that comes. Everything you f***ing want as a creator comes from making the best videos possible, and thumbnails. But it's easier to make thumbnails. The video part, it's the hard part, and that's the thing that you're known for. That's a tip for you guys, but also you guys watching. Ask how can I make my videos better? Do that every single day for years, and then you'll probably get views. The worst thing is when people try to copy or replicate a YouTube, it's not going to work. Like there already is a case, you know what I mean? There already isn't, I'm a chamberlain, like you can't, don't replicate that. Like maybe take something from it and be like, oh, this works, so I'll take this, but definitely make your own style. It doesn't matter, like, if you're filming yourself with a toaster, like if it's something new, and you seem like you're enjoying yourself, then other people will enjoy themselves watching you. It perfects your first frame. I really believe this is one of the most overlooked things right now. Does everything you see there set up expectation and tension for what you're about to watch? So in my creator versus celebrity example, you know, I asked people, hey, who are these two people? And I had the physical printout of the creator versus the celebrity, but it didn't start out that way. It took a ton of hours of iteration. I initially started out where it's just me, a microphone, I was doing this whole long intro of like, hey guys, we're here in Hollywood asking people, who's more famous creators or celebrities? First up, we have Logan Paul versus Tonic way too long. Then I had a shorter version, and then I just got into it. You get ahead of this, I promise. It's gonna lead to so many more views and subscribers like it has for me. The videos that I've made that are the best are purely out of like, like the Metaverse video is my favorite video I've ever made. I loved making that. And we were talking about that before. How fun that was. Yeah, it's so much fun. And like, I did it because I was so passionate. Like, I saw something, I saw an opportunity to do something that I thought was exciting and I saw an opportunity to make something that felt like more than just like a YouTube video that I wanted to get views. And I did it and it happened to get views. But I think it's because the audience can appreciate when something is made out of love and it's made out of more than just algorithmically optimized content, farm type of panel, you know. And so like, moving forward, I've also learned the long-term approach because when I post a Metaverse video, I look at my channel and I look at the last 28 days and these videos I uploaded a year or two ago are also getting tons of views. And I realized like you upload a video and the viewership lifespan is forever. Like as long as I keep putting out great videos, even a flop is going to do a long-term. And so it's just so much freedom in taking that pressure of being immediately successful right now and number one in the world right now and realizing like you're on your own path, you're on your own journey and you have time to you know like execute the vision that you want. If you're like me when I started YouTube, you probably had an idea in your head, got your camera, filmed it, edited it, uploaded it to YouTube and then you realized, oh yeah, I guess I need a title in the thumbnail. So you scrape something together pretty fast and slap it on YouTube because after all, you made a great video so the title in thumbnail, they're not actually as important as the actual video, right? That's a self-centered way of creating YouTube content. You're thinking like you, not like your audience. Look, your viewers don't see the great video behind the click, all they see is a title in thumbnail. That's all they have to go off of. If they aren't intrigued, no one will click and your video will get like 12 views, all from you smashing the refresh button. Whereas most of us creators will create our title in thumbnail the very last part, the best creators in the world, do it very first. Look, Mr. Beast and Mark Rober's start with a title in thumbnail, they know that if they can make a killer TNT, they know their audience will want to click on that guy's they're filming, editing everything. Start with the title in thumbnail instead of doing a last. There's a misconception out there that says, hey, I need to know my niche before I can post any videos. I need to do tons of market research before I can post anything because it needs to land, and it needs to be perfect, it needs to rank. The truth is is that your niche will find you. After you've collected enough data on what's working and what's not working on your channel, and you as a creator, you know what topics you like to do best. I'll tell you a personal story, it should be 10 years to start up my YouTube channel. I've always wanted to be a YouTuber since high school. Specifically, I wanted to do makeup. I wanted to be a makeup beauty blogger. I waited 10 years to finally post something. And the moment that I posted my very first makeup tutorial, I realized, oh my gosh, I hate doing this. Putting on makeup, taking it off, and then putting it on again, oh my gosh, I hated it. And you know what, really suck? It took me 10 years to figure out that the niche I thought I wanted to do was actually not what I wanted to do at all. And so what did I do after that pivot? I pivoted and I thought, you know what? I don't really know my niche yet. I had just quit my corporate job. And so I really wanted to just post videos for millennials who are one to two years into their corporate job, trying to find their identity, they're going through identity crisis. And so I think about this person in mind, okay? It's not really niche down yet, it's just a target audience. And what I realized that this target audience has many different interests. Maybe they're interested in side hustling, career tips, budgeting tips, staying healthy, all those different things. And so what I did was I started to experiment in one day. I was like, you know what? I think that this person might be interested in social media. And so I finally posted a video that seemed out of the blue at the time. It was my first video about Instagram. And that video took off. And today it has 6.2 million views on YouTube. This would not have been possible. If I did not give myself the freedom to try different things. And so let that be a lesson to you. Don't aim for perfection, just do it. Move before you're motivated. Too often we wait for motivation to strike. Whether we wanna pick up a fitness habit or start a new side project, we think we need to feel fired up to begin. And while sometimes that strategy might work, most often we'll be waiting a really, really long time to get started. As author Robert McCain says, the common misconception is that motivation leads to action. But the reverse is true. Action proceeds motivation. You have to prime the pump and get the juices flowing. No matter the change you're looking to make in your life, the only thing you need to get started is the first step. That small step turns into another. And then another. And it won't take long for the momentum to build. And before you know it, you're motivated. This might sound corny, but sometimes when I'm really doubting myself or when I feel like I need a boost of confidence, I'll crank up the tunes and dance around my house like a madman. Whether I'm trying to build confidence or shake off some anxiety, nine times out of 10, I'll see a significant shift in my mindset and mood by doing this. You can wait around to get motivated or you can get moving. If you are going to be a YouTube content creator, what you have to do is you have to figure out how to work the process of creating and uploading videos into your lifestyle. And look, I know it might sound like a bit much, but the thing that you gotta think about is if you are gonna be putting out a video per week, that's 52 videos per year, you have to think, okay. What do I have to do over the course of a week to be able to put out one video per week? And is it possible with the type of content that you make to be able to make more than one video in one sitting? When you turn your camera to make videos or you get out your art board to make videos or whatever it happens to be for the type of content that you make, you have to try to think, hey, is there a way that I can make more than one video while I'm in the process of creating right now? If so, do it so that you can start putting some videos to the side so that you build up a queue of videos over time. That'll take a lot of the pressure off as long as your content types supports it and that will ensure that you stay consistent over the next 365 days. When you are new to YouTube, no one and unfortunately I mean no one knows who you are, including YouTube's recommendation system, otherwise known as the algorithm. The more videos you make, the more YouTube will understand about your videos and how they relate to other videos that viewers are watching. So I would suggest for the every channel in your first six months aiming to make between 25 and 50 videos. And the first thing I will guarantee when you meet this quantity milestone is that you'll look back on your first video and say, jeeps, from a YouTube recommendation discovery algorithm perspective, it will start to understand whether you are a creator of cut videos, gardening, cryptocurrency investing. Whatever the topic is, you want to make videos about. And professional athletes go out onto a field or into the arena. It is after thousands and thousands and thousands of hours of practice. Well in one sense, YouTube is the same. It requires thousands of hours of practice, patience and learning. But the difference is it's better to do all of this in public because you get so much feedback from it. And there are pretty much no penalties, especially when you're starting out your new channel because you got nothing to lose. Making these videos will help develop consistency, getting better at video production, optimizing your video content such as the titles and thumbnails, learning what it takes to make quality videos. If you want to be a successful creator, you have to embrace the fact that your audience is not only the final audience, but they're also your focus group. Traditional media, you've got the focus group and then you've got the intended audience. That distinction goes away. Your fans are your focus group. And if you don't listen to them, you're not going to be a successful creator long term. And you also, we were just talking about this earlier today, there's two aspects to your content. There's the product and there's the performance. And a lot of really, you know, creatively purest people can never accept that the performance of the content, you don't embrace the quality of the product and then the performance itself of that product. You just can't happen. It's going to lose too much steam. You find signal that something is working. When we first said, the Cinco de Mayo in 2004, 2015, whenever we did Will It Taco, let's just throw stuff in a taco for another episode. It was just an episode idea. And then it actually took us a little while to realize we should do that again, but not with tacos. We should do Will It as a sub-series. And so, but we had that signal. Then you get to a point where it's, can we do this better next time? You know, can we double down on this? Can we triple down on this? Is this a format that we can do every month? Once you do that, it's actually harder to find the signal for when you should stop doing stuff than when you need to move on. Interesting. That's the real challenge. You're titled a thumbnail set expectations. And at the very beginning of the video, it's a minimize drop off. You want to assure them that those expectations are being met. You click on a video where, you know, of his, where it's like, Tether is a scam. And then at the very beginning, he starts talking about literally anything else. Then you are like, oh, this is both, this isn't what I clicked on. But if at the very start of the video, you go, Tether is a scam and I'm gonna teach you why. Then it's like, okay, you match the expectations. So at the very beginning, match the expectations and then you want to exceed them. So you want to assure people that what they clicked on is what they're getting and then blow their mind and be like, but you're also getting even more. That's how you lower drop off, which a lot of people, it's sometimes it takes from like 20 seconds to really meet the expectations. And so you lose, like, that's where you're gonna lose everyone. Everyone's videos start like this and then it levels off. So you want to reduce the amount of people that click off. You will basically want to remove every dull moment. You probably want to find the 10 most critical people you know, make them watch the video and just roast it. You know, certain things like, if I just talk to a camera for 10 seconds without a cut, like a lot of people will just like get bored or they'll lose interest. So like having a B cam and a C cam, and just, you can just talk for 10 seconds, but three seconds and cutting to a B cam and then a C cam. Like now it's more interesting, even though it's essentially the same thing and not that crazy. But you want to have good pacing, typically having a payoff at the end keeps them, right? Lastly, circle wins 10 grand. If there is a long moment halfway through, you're gonna watch the end because you want to see who wins the 10 grand. So having a good payoff at the end. So at the end of the day, if you boil it down, what YouTube wants is they want people to click on a video and they want to watch it. By studying the algorithm, you'll learn that you're more studying human psychology, right? What do humans want to watch? What do they find enjoying that? Anytime you say the word algorithm, just replace it with audience and it works perfectly. Like the algorithm didn't like that video? No, the audience didn't like that video. Now, you know, because literally that's it. If people are clicking watching, then it gets promoted more. And that's literally all the algorithm does is reflect what the people want. 2A-T, and if you deny that, you just make terrible videos that are trying to find escape code. The advice that you can get from a creator about YouTube, about the platform, about how to make better videos, doesn't necessarily always apply. You might say something like introducing people to a storyline within the first 10 seconds of a video. But that bit of advice might not work if you're trying to review a product, for example, and you have to talk to the person considering buying the thing immediately. They would leave if you start telling a story and it has nothing to do with the product. So I'm curious when you guys talk to a bunch of different creators and different genres who have different pieces of advice that they give. Do you find that there's more overlap or almost no overlap? So I personally actually disagree about, like you just said, about tech videos. Interesting. I actually think you can introduce multiple narratives, introduce new stories when it comes to the product. It's just not the same way. It's not you telling a story. But if you said like, there's two things I really like about this and one thing, I really don't. All of a sudden, you've just introduced something that I'm waiting for. I see. That's a story. I think Mark has doesn't like about this. And I'm waiting for that. And so I think actually a lot of the advice that he's giving is the way I take it is more of this just general storytelling advice. And if someone's, you know, you're introducing a product and there's no tension, there's no, nothing new that's going to happen, then I might not stick around. A really bad story will go like this. It'll go, this happened, then this happened, then this happened, then this happened. And you think like that's an extremely boring way to intake information. Yeah. And what you want is a story that goes, this happened, but then that happened, therefore this happened. So you want some causation between the beats in your story. And I think that's something that could exist completely in a tech video. I used to actually just watch a video all the way through and say, where am I bored? I'd get my younger brother to watch the video all the way through and just if he know that somewhere where he felt anyway, this is just boring or it didn't make sense, he just like write a quick time something on an iPad. I think it's crucial to watch the video as a viewer. And that's where editors get it wrong, that's where YouTubers get it wrong. They watch the video and they just hyper focus in on mid-by-minute sections and they don't see the entire picture. Have you ever done the distraction test? This is something that I do, where it's I get every single potential distraction possible. And so when I go over a video, I'll get my phone in front of me, I'll get my tablet in front of me, I'll get a book that I am avoiding reading in front of me, I get my cat in front of me and then the second, I want to pet my cats, I want to look at my friend, I get a notification, I'm interested. Or finally, I'm gonna pick up that book that I've been avoiding over those months, someone's wrong here. It's even like a good sort of test for like, I think it's clear enough. Like, like actually, audibly clear enough. I always said to say, I'm reviewing YouTubers not listening to the video with Sidevisor, 3000 and 40s or whatever, you know, they're just watching it on their AirPods, on the train, they woke up in the morning, their mother's shouting at them to get open, they're just watching it, they're just watching without headphones, you know? And I think it's really important to consider them. We've been told so much in the past to narrow your focus. So that way, you know, the more specific your niche is, the faster you can grow. But the thing is, what happens once you've grown, but you're not happy. Like, you've grown with this niche, but now you're not happy. And you're also starting to lose engagement because your audience is kind of just fatigue of you talking about the same thing all the time. So with niche, you can just get a little bit difficult to continue to be more and more creative over time because, you know, you kind of just feel like, things don't change that much, right? So layering is a little bit different. It's about taking the layers of who you are and what you want to connect with your audience on and creating your content strategy based off of multiple pillars, but ultimately one based layer, which is going to be your most defining trait and your most defining content pillar, if you will. So for me, for example, entrepreneur life is, or entrepreneurship in general, is my base layer. When most people think of me, they think of entrepreneurship branding, productivity, social media tips, and marketing strategy. So those are like my base layer. That is what I'm known for. And that is what I create the most content about. However, I have not so much so because of video on how to grow on YouTube or how to get monetized has gone viral. I have not been gone in and like, only created content about that thing. Instead, I continued to build on that and create content that then represents who I am and not just what I do. And that is the key difference between niching and layering. Your on camera presence is extremely important because if you're talking about something, but it seems like you lack conviction or you lack confidence in the thing you're talking about, then generally speaking, people are not going to want to listen to you for a long time. And so one of the questions that I got from you guys was, Josh, how do I break free from camera shyness? That's a real thing. Like how do I break free from being shy in front of the camera? I want to start a personal fun at YouTube channel, but I don't feel confident, you know? I remember I saw a video a while back. It was a gram step in video. And he was talking about literally this exact same thing. He posted something on Reddit saying, I don't feel like I'm confident enough or have the personality to be a YouTuber. I don't have the personality, balls or charisma to start my own channel. I am not the type that would do well in front of the camera. But thankfully, after years of doubting myself, I just finally got to the point where I just said, get, I'm going to film a YouTube video and I'm gonna get over my fear about putting myself out there. Listen guys, if you want to break free from camera shyness, if you want to have more confidence on camera, I could sit here and I could give you, you know, exercises. I could say to you, listen to music, that's gonna hype you up before you start recording or, you know, say to yourself in the mirror, a hundred times, I'm confident, right? Certainly that stuff could help a little bit, but it's not gonna fit the root cause of the problem and the root problem. The reason that you're so shy in front of the camera, the reason that you lack confidence is because you care too much about what other people are gonna think about to. I mean, think about this for a second, right? Are you shy in front of your mom or your dad or your best friend, right? You're probably not shy in front of those people because you trust them because you know that they're not going to judge you for who you are. But the moment you get on camera, you are aware of the fact that there are gonna be thousands of people potentially tens, hundreds, millions of people who are watching you who could potentially judge you and that's what makes you shy. That's what makes you lack confidence when you're in front of the camera because you just care too much about what other strangers are gonna think about you. I know it's a lot easier said than done and it's gonna take practice, but you cannot care what other people think about you. If someone feels like they wanna judge you because of the way you look or because of the way your voice sounds or because of the way you talk, the cadence of your voice, whatever. If somebody feels like they wanna judge you because of that, understand it has nothing to do with you. Them judging you is just a reflection of themselves. Like they're making fun of you, they're saying things about you because they feel bad about themselves in those areas that they're making fun of you for. Or perhaps they're just jealous of you because they lack the confidence themselves to also be in front of the camera, but you're taking a step in you're getting it in front of the camera and because of that, they're jealous of you and so there's gonna make fun of you, right? Listen guys, you are going to have haters. It's inevitable. If you have an audience that's big enough, there will be people who comment on your videos who say mean things, but listen to me. The overwhelming majority of people who comment on your videos and who watch your videos are gonna be supportive, are gonna be kind, are gonna be encouraging and so you shouldn't be concerned about being yourself in front of the camera because most people are gonna love you for who you are. You will have the haters of course, but that's very few and far between. Whenever people ask about starting out, they're like, oh, I really like tech on to make videos about tech, any tips for starting. Make sure you really do like tech, right? Cause there I, again, you can make videos about tech every day for the next year and maybe it was kind of get sick of it. Like that's real, that's a real valid feeling to have. And so I often equate becoming a professional video creator and tech or any product related thing, kind of like becoming a professional athlete in that everyone can have fun making videos and everyone can have fun, let's say playing basketball for example, go to the park with your friends, playing basketball, whatever, but turning into a job requires not just a high level of skill, but like an extra level of time dedication and like actual resources being poured into it to get to the very peak level to be able to turn it into your job. Yeah. And that's the same thing with making videos. Like if you can be happy making videos for fun and never making a dime off of it and maybe someday it hooks and you can spend time on the strategy and actually turning it into your job, that's great. But you should be happy making videos never making a dime off of it is if you're like playing basketball in the park. And if you're getting burnt out, playing basketball in the park, it's probably not gonna be a great idea to try to become a professional basketball player. Same thing with creating videos. First big lesson is that the numbers really don't matter. If you set a goal for yourself to get 10,000 subscribers, 100,000 subscribers, a million subscribers. Well, once you get there, it's, yeah, it's gonna be awesome. It's a reason to celebrate. You hit this goal of a subscriber milestone. But the next day, you're gonna have to set a new goal and you're gonna be moving towards a different objective. And in the end, what does a million subscribers really mean? Like what to you is a million subscribers? I think the biggest question that you need to ask yourself is why do I want a million subscribers? Like what is the purpose of that? Because having something like a million subscribers doesn't necessarily mean that you are successful. So you have to think of what does success mean to you? Is it have to do with your income? Does it have to do with just having a place to have a creative outlet? Like what is the purpose of making videos? And we set these goals for ourselves, like getting to these different subscriber milestones or these different objectives. But a lot of times we don't take the time to take a step back and actually think of why do we want that? Why do we need this in our life? So one big thing that you can take away from this is don't set your goals based around just getting a bright, shiny plaque. Figure out what it is that you actually want and what goals do you need to set to be able to obtain that? And what happens when you actually get there? Are you done? Are you gonna be setting new goals? Like think through the longevity of what you're doing rather than just thinking short term and trying to get this one number goal. What's the best advice you've ever gotten? The best advice? You're crazy until you're successful than you're a genius. For a lot of people when you're grinding as a small channel, people think you're too obsessed. You're weirdo. Stop only making videos. Like get alive, be realistic. You know, I mean, people will come into your out of your mind for wanting to do this. But then once you're successful, they're like, yo, you're drive, your tenacity was great. But it's like, yeah, well, where was that back then? You know, I mean, I didn't get back when I was a small channel. And so I think you're crazy until you're successful than you're a genius. Make a channel, make a video and upload it. I think that is the hardest barrier to overcome. People focus on the equipment, they focus on, I don't have this, I don't have this. And I think the actual most difficult obstacle is putting up a piece of content that might not be your best. And just seeing what happens. I think you have to make a certain amount of videos before you find your niche. So often in the media, they focus on like, oh, like this person didn't even know what they were doing. And they woke up and they suddenly had a million followers because a video went viral. Everything is strategic. Even those situations are strategic with the algorithm or the type of content. So yeah, I think do it and bear as yourself. Do what you need to do to get over that first fear and make it a habit of just uploading and putting yourself out there. What are you gonna do when you're up? I wanna be a YouTuber. My man. All right, what are you gonna talk about? I don't know. You'll figure it out. What are you making some content now? Yeah. What are you talking about your life? Your interests, the stuff you're into? What are you into? Like Amy. Mm-hmm. Can you give me a favor? Don't ever, ever, ever. Ever worry about how many people are subscribed to your channel. The number one reason kids lose on YouTube is they care too much about how many people are subscribed to them. Just be patient, make good content. Nobody was following me for a long, long time. Longer than you were alive right now. Got it? Do you understand? You promise? Brothers. Oh yeah. I thought I'd have to rate you also. You gotta start before you're ready. Like since I've posted that video, it's been 11 years. And I just look back and I'm like, man, that little kid just got on camera. He wasn't ready. I wasn't ready. I didn't know all the steps. I didn't have all the right answers. And neither do you. And even after this challenge, you're gonna get your battle plan. You're gonna get a napkin plan with steps to take. But you're still gonna say, I don't think I'm fully ready. You're not. That's why you have to start before you're ready. You gotta start messy. You gotta punch fear in the face. Punch perfectionism in the face. And press record. You gotta just press record. Of course, as you go, you can level up. And we say small tweaks. Lead the giant peaks, but you gotta start before you're ready. Type start in the comments. It makes me think of Joey, Dr. IHealth, who just started. There he is. Before the pandemic, he came to our event, our annual event called Grow With Video Live. And he started watching Think Media. He had never posted a video. He was working. He's an eye doctor working in an eye clinic. He wanted to start shifting online. He wanted to start creating freedom. He wanted to start creating extra income online, sharing his message, helping people with eye floaters and contact lenses and all the stuff he was doing in his local business practice. He wanted to start sharing it with people around the world, but he did not operate a camera. He didn't know how to edit a video. He didn't know what to say on camera. He didn't know how to structure a video. He didn't know how to title videos or make thumbnails. He didn't know, but listen, he just started. His first video he posted July 12th in 2018. Really not that long ago, right? And so he posted his first video today. He's at 374,000 subscribers. He started watching Think Media, kind of dabbling a little bit. No prior experience with cameras. And then eventually he actually joined a program called Video Ranking Academy. And then he started to take YouTube seriously. And he grew 100,000 subscribers in just one year's time. And so it's, and since then he's just been growing. Look at there he is, a picture trying to operate a camera, trying to figure out. Maybe you have that overwhelm of tech. You can figure it out. You gotta just start before you're ready. You know, maybe you have that. I don't really know all the answers. You don't need all the answers. You gotta just start. I heard Ziggler say it this way, you don't have to be great to start, but you have to start to be great.\n"
          ]
        }
      ]
    },
    {
      "cell_type": "code",
      "source": [
        "try:\n",
        "  chain.invoke({\n",
        "      \"context\":data,\n",
        "      \"question\":\"how was lebron's career?\"\n",
        "\n",
        "  })\n",
        "except Exception as e:\n",
        "  print(e)"
      ],
      "metadata": {
        "id": "ZjhCKSqraY2O"
      },
      "execution_count": null,
      "outputs": []
    },
    {
      "cell_type": "code",
      "source": [
        "from langchain_community.document_loaders import TextLoader\n",
        "\n",
        "loader = TextLoader(\"transcription.txt\")\n",
        "text_docs = loader.load()\n",
        "text_docs"
      ],
      "metadata": {
        "id": "XbrD0uiV9_tC"
      },
      "execution_count": null,
      "outputs": []
    },
    {
      "cell_type": "code",
      "source": [
        "from langchain.text_splitter import RecursiveCharacterTextSplitter\n",
        "text_splitter = RecursiveCharacterTextSplitter(chunk_size=1000,chunk_overlap=20)\n",
        "text_splitter.split_documents(text_docs)[:5]\n",
        "documents = text_splitter.split_documents(text_docs)"
      ],
      "metadata": {
        "id": "d7MAx6uGdHvc"
      },
      "execution_count": null,
      "outputs": []
    },
    {
      "cell_type": "code",
      "source": [
        "# from langchain_openai.embeddings import OpenAIEmbeddings\n",
        "from langchain.embeddings.openai import OpenAIEmbeddings\n",
        "embeddings = OpenAIEmbeddings()\n",
        "embedded_query = embeddings.embed_query(\"who is m's sister?\")\n",
        "print(embedded_query)"
      ],
      "metadata": {
        "colab": {
          "base_uri": "https://localhost:8080/"
        },
        "id": "zC3H32QvdHs3",
        "outputId": "fa537c0f-e6b1-4030-85a4-06de17dd1120"
      },
      "execution_count": null,
      "outputs": [
        {
          "output_type": "stream",
          "name": "stderr",
          "text": [
            "/usr/local/lib/python3.10/dist-packages/langchain_core/_api/deprecation.py:117: LangChainDeprecationWarning: The class `langchain_community.embeddings.openai.OpenAIEmbeddings` was deprecated in langchain-community 0.0.9 and will be removed in 0.2.0. An updated version of the class exists in the langchain-openai package and should be used instead. To use it run `pip install -U langchain-openai` and import as `from langchain_openai import OpenAIEmbeddings`.\n",
            "  warn_deprecated(\n"
          ]
        },
        {
          "output_type": "stream",
          "name": "stdout",
          "text": [
            "[-0.0023331434865317704, -0.010579751774412244, -0.005661903398788893, 0.002230392995472812, -0.03109440757440509, 0.027593806307595527, -0.003463398189688386, 0.003975378803790007, -0.008375931507393507, -0.03667836253354914, 0.008794019905079458, -0.00012312336149568754, 0.010282129951410542, 0.014023662504943456, -0.011685204658985385, -0.029393710112505973, 0.02137209096439252, -0.013003244959126557, 0.024079032173885732, -0.03939947847258773, 0.005413884747292855, 0.0008109312015828809, -0.0018601372086678911, -0.007886981569174119, 0.007872808702273887, 0.007631876949889251, -0.0027069423736464275, -0.026332456543732705, -0.038294024656692016, 0.007702739421745262, 0.015391305976590292, -0.0033199018704444783, -0.0017848459487362011, -0.017928179302538736, -0.004808011916775563, -0.008723157433223445, 0.009856955120274477, -0.004280087060241825, -0.01135923803350579, 0.006048103311610609, 0.009970335261508608, -0.007089780157777854, -0.006140224152494394, -0.003978922020515065, -0.029166951692682852, 0.023356236451070538, -0.004652114571824596, -0.012209585833132778, -0.014966132076776799, 0.028600051917834768, 0.027282012549016167, 0.0007081807687315831, -0.0008547773444022556, 0.008914485548441133, -0.02587893597879618, -0.0022250784032158684, 0.005187125396147164, 0.01023961228203242, -0.008446793979249518, 0.01611410263072806, 0.02682849198407964, 0.028018981138731594, -0.04186548653271245, -0.0031958927775271023, -0.0025120710417036837, -0.003477570823757974, 0.0006709780408563703, -0.00567253258330278, -0.014852751935542667, 0.010997839240775622, 0.026445835753644266, 0.019798945579305196, 0.0003671556467934775, -0.01388902399468155, -0.011855274405175295, -0.02723949394831547, -0.020054049732928774, 0.012819002346036414, -0.022789338538867596, -0.013215831443372017, 0.01335755638708404, -0.007398031165293444, -0.007362599929365438, 0.0063102938986843065, 0.013896110428131665, 0.017531350205203133, 0.005268617052517062, 0.00034456825135167224, -0.012514294089584595, 0.019614703897537625, 0.030895993025737287, 0.00903495212312538, 0.009701058240984795, -0.0011745437480666222, -0.035601254451453894, 0.010104973771770514, -0.01685107122044349, -0.013704782312913978, 0.005080831688363147, -0.005520178455076872, 0.0016085758061080814, 0.020606776640876633, -0.012620587797368613, -0.00482572706907828, -0.024362482061309778, -0.008234207495004057, -0.017970696040594286, -0.015235409097300612, 0.009162504199937171, -0.008092482551292036, -0.048498205702796435, 0.026360800414888023, 0.005998499674443659, 0.0047973822666003895, 0.010806511125557935, -0.021145330681924257, 0.02559548795401728, -0.011954481679509197, 0.0017281559945344566, -0.011508048479345357, 0.010062456102392394, -0.016595967066819907, 0.0015607436608883383, -0.013208745009921903, 0.029422055846306434, -0.009899472789652598, 0.0005744280626509413, -0.01906197698958977, -0.022264955502075055, -0.0008215605607197504, 0.04396301495459231, -0.021457124440503617, 0.010629354945917909, 0.02862839765163523, -0.009162504199937171, 0.024192413246442435, -0.03344703828726339, -0.013059934564082337, -0.006969314048754892, -0.042432386307560535, -0.01074273508715204, 0.012181241030654889, -0.006685864626992135, 0.0023561736967527168, 0.013981144835565335, 0.0060835340818773285, 0.01808407711315099, 0.0057965419090508, -0.023313719713014987, -0.015618066259058556, 0.01687941695424395, -0.01814076671810677, -0.01926039153825757, 0.0060906205153274445, 0.0385491288103156, 0.02115950354882449, -0.019912324789216753, 0.007171271814147752, -0.0040356120911321305, -0.015391305976590292, -0.00890740004631359, 0.003256125832038583, -0.0035679202891098732, -0.010565578907512013, 0.004092301696087911, 0.044983431569086636, -0.012762312741080634, 0.015221237161722953, -0.011493876543767698, 0.013995317702465565, -0.00036006941707017465, -0.003266755249383113, -0.019558014292581843, 0.011437186007489346, 0.0006120736926167863, 0.0019274564637988443, 0.010778166323080046, 0.003447454180086912, -0.005233185816589056, -0.005718593003744673, -0.00924753860737084, 0.03962623689241085, 0.015632238194636217, 0.030612543138313245, -0.02697021692779166, 0.013825247956275653, -0.003936404351136943, -0.01723372745087886, 0.003908059548659054, -0.014512613374485415, 0.015688927799591995, 0.01247886285365659, 0.014505526941035301, -0.010636441379368023, -0.5909354669947636, -0.016709346276731464, 0.001321583167620266, 0.014052007307421345, 0.01134506516660556, 0.012344224343394685, 0.035544562983852966, -0.0012896951484173184, -0.02355465099973834, 0.01819745632306255, -0.005892205966659642, 0.036508291856036656, -0.01814076671810677, -0.008446793979249518, 0.004244655824313819, -0.04370790707567845, -0.013478022030445715, -0.021202020286880036, 0.0212303660206805, 0.016581794199919675, -0.028897674672159042, 0.006806330270353811, 0.02779222085626333, 0.024079032173885732, 0.029450399717461752, -0.012138723361276768, 0.004053327243434848, -0.006537053249829998, 0.004393466735814671, 0.02559548795401728, -0.04515350224659912, 0.04447322326183947, -0.002946102983329821, -0.0020284352300799524, 0.03840740386660358, -0.0238664447583177, -0.005438686798706973, 0.00723150463582859, 0.021938988876595462, 0.02546793587720549, -0.0342406964819346, 0.011479703676867467, 0.025354554804648786, 0.007787774294840217, 0.022179922025963958, 0.015150374689866943, 0.03310689693223842, 0.011770239066419054, 0.0025545884782511613, 0.011692291092435499, -0.001465965291045438, 0.03489262973289378, -0.0345524921031591, -0.006420130357532095, -0.005598126894721712, -0.003181720376288157, 0.024915208969257634, -0.031037717969449312, 0.012819002346036414, 0.024929381836157862, 0.0038726283127310484, 0.009332573946127081, -0.0019026546452153691, -0.025127796384825665, -0.01957218529683693, -0.00970814467443491, -0.026318283676832477, 0.00231188465184271, -0.007582273312722301, 0.0007028661182669787, -0.010445113264150338, 0.009530988494794885, 0.0008406048267479891, 0.017460487733347123, -0.003296871660223532, 0.005006426465443365, 0.011536393281823248, 0.006253603828067241, -0.006320923083198193, 0.004184423002632982, -0.004652114571824596, -0.010593923709989904, -0.01940211648196959, -0.025283692332792772, 0.018537595815442374, -0.018821045702866416, -0.021698057589872113, 0.012776484676658293, 0.012705622204802283, 0.01587317134400471, 0.01716286497902285, -0.011919050443581191, 0.0046308557371355355, -0.0023703463308223046, 0.030867647291936827, 0.0235829967335388, -0.02243502617958754, 0.00033349601922800094, 0.010104973771770514, -0.01327252197965037, 0.0020674096827330156, 0.021641367984916334, 0.04529522719031114, -0.004591881284482472, 0.03282345077010467, 0.00375216243653873, -0.03222820526145612, 0.017914006435638508, 0.011451358874389576, -0.037273604316907405, 0.01621330897373939, -0.003709644999991252, -0.006320923083198193, 0.015462168448446303, -0.026800148112924322, -0.029932264153553597, 0.040164790933458476, 0.03900264564996184, 0.01819745632306255, -0.020890226528300675, 0.024036515435830186, 0.015745617404547774, 0.0024146351429016684, -0.003876171529456106, 0.004474958392184569, 0.006774442251150863, 0.0011081102971169335, -0.012663105466746734, -0.0048505291204923974, 0.01941628934886982, 0.02240668044578708, -0.003266755249383113, 0.005187125396147164, -0.03341869255346293, 0.005438686798706973, -0.005357195142337075, 0.02793394579997535, 0.002728201208335488, 0.008871968810385582, -0.004606054151382703, -0.03268172582639265, 0.003908059548659054, -0.007738170657673267, -0.017999041774394747, 0.007277565056270483, -0.028614224784734996, -0.013704782312913978, -0.01342841885894005, -0.033730488174687434, -0.046088885384982355, 0.00431551829616983, 0.0016767807490049775, 0.004421812003953847, 0.015235409097300612, -0.0009752433370098953, -0.012556811758962717, -0.014512613374485415, 0.00900660732064749, -0.035544562983852966, -0.018353354133674803, -0.029422055846306434, 0.00030337952107609096, -0.028444154107222515, -0.016425896389307422, 0.0060055856422324885, -0.01806990424625076, -0.0006204885995081555, 0.007858636766696228, 0.0066929505947809645, -0.034637525579270204, 0.020748501584588654, -0.02250588865144355, -0.002827408482669389, -0.0003288456636916841, 0.016043240158872048, -0.0043296906974087754, 0.016766035881687246, 0.00966562700505679, -0.027480427097683967, -0.005800084660114571, -0.010948236069269958, -0.015462168448446303, -0.009679799871957022, 0.00950973012576711, 0.034779250522982225, -0.007511410840866289, -0.0028716975275793954, 0.006572484485758003, -0.006384699587265375, 0.008524742884555644, 2.0414452534375886e-05, 0.024319965323254228, 0.014625992584396976, 0.0005314677822204918, 0.004237569390863704, 0.01279774397700864, 0.015618066259058556, -0.004666286973063541, 0.02271847606701158, 0.0025138424172355695, 0.0194729789538256, -0.008198776259076052, 0.00970814467443491, 0.007171271814147752, 0.017687248015815386, -0.041383623959265745, 0.009453039589488758, -0.015476341315346535, 0.04880999759873065, 0.010643527812818139, 0.010367164358844211, -0.014370888430773394, 0.014512613374485415, -0.01805573137935053, 0.020252464281596577, -0.01446300927165718, 0.0016023752932545518, 0.003847826494147573, 0.0006519337748281317, 0.0044891312590848, -0.0255387983490615, 0.00874441580225122, 0.006048103311610609, 0.009757747845940575, 0.029592124661173776, -0.005144607726769042, 0.018424216605530813, 0.010452199697600454, 0.010487630933528459, -0.012691450269224623, -0.028018981138731594, -5.253780167174932e-05, 0.00028367093101573437, 0.01082776949458571, 0.016383379651251872, -0.017347108523435562, 0.020847707927599983, -0.0063953287717792625, 0.021995678481551244, -0.009155417766487055, -0.013109537735588001, 0.01621330897373939, 0.029166951692682852, 0.02368220307655013, 0.03392890086071009, -0.02820322282049916, 0.02895436427711482, -0.022831855276923142, 0.02689935445593565, 0.03225655099525658, -0.02468844868678937, -0.007433462401221449, -0.01395988646653756, 0.011054529777053974, -0.007171271814147752, -0.03262503435879172, -0.012514294089584595, -0.010926976768919612, -0.010792338258657705, 0.011019098541125968, 0.01934542687701381, 0.020691811979632872, -0.004099388129538026, -0.0016723518445139766, 0.00756101447803324, 0.012932382487270546, 0.006724838613983913, 0.020833536923344897, 0.005031228051196197, -0.013180400207444012, 0.004676916157577428, 0.006072904897363442, -0.007773601893601273, -0.0036458689615853565, 0.003723817401230197, -0.019883980918061435, 0.02702690653274744, -0.010905718399891837, 0.025085277784124973, -0.03288013851241531, -0.009715231107885027, -0.043736252809478904, 0.015447996512868644, 0.017361279527690652, -0.03625318770241308, -0.0022463370050742858, -0.005056030102610315, 0.004163164167943921, -0.03015902443602186, 0.0097364894769128, 0.020734328717688422, 0.013612660540707621, -0.021258709891835818, -0.01617079223568384, -0.010260870651060195, 0.011578910951201367, 0.02786308332811934, 0.0014907671096289134, 0.03803892050306844, -0.004368665150061839, -0.010820683992458167, 0.006331552733373367, 0.016681002405576146, 0.0012507208121795767, 0.006161482987183455, -0.006420130357532095, 0.0009096956320338103, -0.006809873487078868, -0.021003605738212236, -0.017531350205203133, -0.02474513829174515, -0.019969016256817677, -0.025694694297028607, 0.026247421204976463, -0.0006373184132908937, 0.008496398082077755, 0.011663945358635037, -0.027905600066174888, 0.006062275712849554, -0.0018229344807926783, -0.0024270361686087277, -0.018395870871730353, -0.013350469953633924, 0.007096866125566683, 0.14161135216056378, 0.0020408362557870117, -0.011366323535633336, 0.011671031792085153, 0.0032454964146940526, -0.0018725381179596288, -0.029847228814797358, -0.04280086967109568, 0.024008169702029722, -0.01755969407635845, -0.01585899847710448, 0.00015855455376794742, -0.00863103659233966, 0.001377387317640746, -0.0017821885361924078, 0.013343383520183808, 0.026445835753644266, -0.008127913787220041, 0.002145358122377856, 0.0022038195685268078, 0.015391305976590292, -0.01008371540274274, 0.018778527102165724, 0.03667836253354914, -0.02898270814827014, -0.00846096684614975, 0.0004716776297996434, 0.018041558512450297, -0.0037025587993717796, -0.030867647291936827, -0.0014695083913551744, -0.007188987432111755, 0.02572304003082907, 0.008262552297481946, -0.0034598552057939712, 0.03015902443602186, 0.018806872835966187, -0.029648814266129555, -0.006753183882123088, -0.0050135124332321935, 0.02786308332811934, 0.0015040538231019154, -0.007412203566532389, 0.0011851731654111523, -0.00863103659233966, -0.0067779854678759206, -0.022760992805067132, 0.02930867477374973, 0.00035453328645642377, 0.0057115070359558436, 0.050680767600787394, -0.0006320037628262893, -0.00590283515117353, 0.00874441580225122, 0.009616023833551125, 0.011160822553515418, -0.021811436799783673, -0.03126447638927243, -0.006515794880802224, 0.02782056659006379, 0.009885299922752366, -0.010204181046104415, 0.012556811758962717, 0.00863103659233966, -0.006519338097527281, -0.018636802158453702, -0.013187486640894128, -0.0260206609225082, -0.01744631486644689, -0.023200338640458285, -0.020039876866028546, -0.022222438764019508, -0.02594979845065219, -0.025425417276504797, 0.014526785310063075, 0.021527986912359628, 0.02016743080548548, -0.01609992976382783, 0.015745617404547774, 0.027494598101939053, -0.029450399717461752, -0.012223758700033008, 0.017432141999546662, -0.013669351076985973, -0.015603893392158326, 0.017503004471402673, 0.03452414636935864, -0.019827291313105656, -0.02478765689244584, 0.0035643770723848157, 0.014094524976799467, 0.025056933912969655, 0.01026795708451031, -0.022959407353734935, 0.003491743224996919, 0.019033631255789305, 0.006512251664077166, 0.01726207318467932, -0.03018736830717718, 0.013152055404966122, 0.02464593194873382, -0.03426904221573506, -0.02816070421979847, -0.008276724233059606, 0.018792699969065955, 0.004970995229515359, -0.009559333297272774, 0.001977059984550473, -0.016907760825399267, 0.003089599302573729, 0.023016096958690713, -0.014349629130423048, 0.03577132512896638, -0.0029673615851882385, 0.009304229143649192, 0.03358876323097541, 0.013024503328154332, 0.02363968633849458, -0.0021489013391029137, -0.01128837556164978, 0.004460785990945624, -0.03015902443602186, 0.003978922020515065, 0.0057115070359558436, -0.02354047813283811, -0.0016643798397132398, 0.011585997384651483, -0.04087341565201858, 0.015972377687016037, -0.0020160344372035363, 0.012556811758962717, 0.027352875020872178, -0.01342841885894005, -0.017701419020070473, -0.0067779854678759206, -0.0040249824409569574, 0.0027406020012119042, 0.033191934133639814, 0.02261926786135511, 0.02393730723017371, 0.02144295343624853, -0.0032614404242955267, 0.0007675280190617993, -0.02575138390198439, -0.02689935445593565, -0.020323326753452588, -0.015830652743304016, 0.009807351948768812, -0.009835696751246702, 0.006051646062674381, -0.015773963138348238, -0.005077288471638089, 0.004067500110335079, -0.006544139683280113, -0.009226280238343066, -0.0278914290619198, -0.014781890395009229, -0.008170431456598163, 0.02767884164635177, 0.02172640146102743, 0.017290417055834638, 0.013470936528318172, 0.008049964881913915, 0.0034279669537603803, 0.021116984948123797, -0.007660222218028426, -0.0345524921031591, 0.025099450651025205, 0.003380134924955959, 0.015603893392158326, 0.020975261867056918, -0.005502462837112868, 0.012712708638252398, 0.017928179302538736, -0.02487269036855694, 0.04345280292205486, -0.021527986912359628, -0.028189049953598933, 0.008170431456598163, -0.039938032513635355, 0.0028486673173584495, -0.006122508534530392, -0.021116984948123797, 0.0019859177935324748, -0.01831083553297411, 0.0011772010441950939, 0.014824407133064777, -0.004485588042359742, 0.00642721679098221, -0.0008056165511182766, 0.015362961174112403, -0.026219075471176002, 0.026360800414888023, 0.0040214392242318995, -0.0072988238909595425, -0.00509146133853832, -0.016780208748587475, 0.012315879540916794, -0.009212108302765407, -0.005332393090922957, -0.0022764536487453477, 0.006593743320447064, 0.017673075148915154, 0.0019912326186200613, 0.0011648001349033564, 0.022080713820307487, -0.03466587131307067, -0.023086959430546724, 0.0057965419090508, -0.006062275712849554, -0.018721837497209945, -0.002310113276310824, -0.050028830624537925, -0.05598127080986226, 0.037131879373195384, 0.0052402722500391715, -0.026445835753644266, 0.014668510253775097, -0.006437845975496097, 0.0007630991145707986, -0.0002938573880619717, 0.012223758700033008, 0.03789719555935642, 0.005548523257554761, 0.01229462117188902, 0.00010313796490464342, -0.010643527812818139, -0.00459542450120753, 0.008191689825625936, 0.01293946798939809, 0.00747598007059957, 0.031321167856873354, 0.03506270041040627, -0.013293780348678143, 0.013995317702465565, 0.01699279616415551, 0.008879054312513127, -0.01635503391745141, -0.01587317134400471, -0.006423673574257152, 0.020507570297865305, -0.01239382844622292, 0.003284470867347116, -0.002324285677549769, -0.006852391156456989, 0.03027240364593342, -0.01720538357972354, -0.020847707927599983, -0.03602642928258996, -0.018976941650833527, -0.019458806086925372, -0.0020603232492829, -0.011557652582173594, -0.0008472481834844901, -0.018183283456162318, -0.010374250792294327, -0.012514294089584595, -0.0036919293820272493, 0.010175836243626526, 0.004769037464122499, -0.031009372235648848, 0.05014221355973977, 0.009814438382218927, -0.000564241605604704, 0.00535010870888696, 0.005169409778183161, -0.018523422948542142, -0.0090774697925035, -0.009020779256225148, 0.035686287927564994, 0.012422173248700812, 0.014307112392367498, -0.004425354755017618, -0.013867765625653774, -0.0049391072103124115, -0.006664605792303074, -0.006278405879481358, -0.01495196014119914, 0.0031923497936326875, -0.0036316963275157686, 0.02141460770244807, 0.01629834431249563, 0.003055939675008252, -0.014895269604920788, -0.02905357062012615, -0.0278914290619198, -0.014137042646177588, -0.006041016878160494, -0.003211836787128576, -0.023951480097073943, 0.0029337019576227623, -0.026289937943032013, -0.022846028143823374, 0.009538074928244999, 0.006522880848591053, -0.01829666266607388, -0.0003722488753165961, -0.005339479524373072, -0.0030506248499206656, 0.0235829967335388, -0.04645736874851749, -0.014640165451297206, -0.009233366671793182, 0.019841462317360743, 0.004598967717932588, -0.04274418192878504, 0.006328009516648309, -0.0010576208557687187, -0.007653135784578311, -0.03115109717936087, 0.008184603392175822, 0.005506006053837926, -0.010133318574248405, -0.026729285641068308, 0.014399233233251284, 0.003475799215395445, 0.0006089734943976823, -0.020961089000156686, -0.005537894073040874, 0.029478745451262216, -0.02563800469207283, -0.0015102542195401234, 0.0011258259150809362, -0.0005257101714575945, -0.000111220702503996, -0.007210245801139529, -0.004159620951218863, 0.004230483423074875, -0.01114665061793776, 0.012918209620370316, 0.025312038066593236, 0.009878214420624823, 0.001126711602846879, -0.0012560355208518419, -0.020011532994873227, -0.014151214581755247, -0.01592986094896049, 0.02369637594345036, -0.007646049351128196, -0.03259668862499126, 0.010466371633178113, 0.023597167737793887, 0.003187034968545101, 0.004156077734493806, -0.01397405933343779, -0.0006142881448622866, -0.030470818194601224, -0.03324862187595045, -0.012946554422848205, -0.022846028143823374, -0.01498030494367703, 0.039257753528875707, 0.01446300927165718, -0.010282129951410542, -0.0182399730611181, 0.01748883160450244, -0.03392890086071009, -0.013796903153797764, -0.004563536482004582, -0.0011816299486860948, 0.013711867815041521, 0.02678597524602409, 0.0013942171314234844, 0.008623950158889546, 0.016340862913196325, -0.016766035881687246, -0.03293682998001623, 0.01938794361506936, 0.007291737923170713, -0.013350469953633924, 0.0006346610589547611, 0.0015510000477250725, -0.03973961610232241, 0.011097046515109522, 0.005442230015432031, -0.0015625152692508673, 0.0231861676362032, 0.03191640964023162, -0.009460126022938872, 0.0022764536487453477, -0.030612543138313245, 0.028344947764211186, 0.01808407711315099, 0.009764834279390691, 0.011097046515109522, 0.0002433679467137568, -4.688403792310007e-06, -0.009332573946127081, -0.0057115070359558436, -0.014470095705107294, 0.004241112607588761, 0.01493778727429891, -0.004234026639799932, -0.016709346276731464, 0.014569302979441196, -0.0036954725987523073, 0.02240668044578708, -0.003544890078888927, 0.043197698768431284, -0.003117944105051619, -0.0004539620409394711, 0.021287055625636278, 0.0022357078205603987, -0.019175356199501326, -0.024986071441113644, 0.00282563687430686, 5.879362271692594e-05, -0.01806990424625076, 0.021287055625636278, 0.01118916828731588, -0.005431600365256858, -0.02468844868678937, -0.009934904025580603, -0.0028557535179779218, -0.00283626629165139, -0.0014172473416444306, -0.013279607481777913, -0.022945234486834703, -0.00723150463582859, -0.018891908174722426, -0.006207543407625348, -0.016383379651251872, 0.0011337979198816732, -0.00333938909677101, 0.00792949923855224, 0.011812756735797176, 0.016255827574440083, -0.0032366386057120513, 0.005899291934448472, 0.03254000088268063, -0.024971898574213412, -0.020705984846533104, -0.0029709048019132965, 0.031547926276696475, -0.009226280238343066, 0.02365385920539481, 0.21587511835753512, 0.03693346668717273, -0.010983667305197963, 0.038974303641451664, -0.0009256396998429449, 0.0003281813396595662, 0.03778381634944485, 0.0006926796612207414, -0.0019097408458348417, 0.021669711856071652, -0.014625992584396976, 0.018551768682342606, -0.0034031651351769054, 0.016936106559199728, 0.009396349984532978, -0.017871489697582957, -0.02148547017430408, -0.01845256047668613, -0.010657699748395798, -0.038095608245379074, 0.006600829753897179, 0.005038314484646312, -0.0390309913837623, 0.004244655824313819, 0.028344947764211186, 0.026403319015588716, -0.012287534738438905, -0.0011461988291734107, -0.005151694160219158, 0.012507207656134481, -0.012804829479136184, 0.03166130548660803, -0.006094163732052502, 0.006540596466555056, -0.018537595815442374, -0.0017715592352631991, -0.02154215977925986, -0.015235409097300612, 0.017219554583978627, 0.029422055846306434, -0.027466254230783735, 0.013315038717705919, -0.012230845133483124, 0.028699258260846097, -0.04367956506716827, -0.019359599743914043, -0.017290417055834638, -0.008772761536051683, 0.003311044061462477, 0.0194729789538256, -0.02987557454859782, -0.006033930444710379, 0.024107377907686196, 0.032993517722326865, -0.004046241275646018, -0.018721837497209945, 0.014711027923153217, 0.016595967066819907, -0.04727937267698916, 0.008971176084719484, -0.023157821902402734, 0.0053961691293288525, -0.03452414636935864, 0.04555033134393473, -0.017077831502911752, 0.007518497274316405, -0.0231861676362032, 0.008212948194653711, -0.02996060988735406, -0.016681002405576146, -0.03293682998001623, -0.01941628934886982, 0.011437186007489346, -0.026119869128164674, -0.00745472123591051, -0.0081420857227977, 0.03316358839983935, 0.006668149009028132, 0.029251985168793952, 0.0364799461222362, -0.016766035881687246, -0.02165553898917142, -0.0016395780211297646, 0.0175171773383029, -0.01635503391745141, -0.00960893740010101, 0.013067020997532453, 0.007383858764054499, 0.019005287384633987, 0.009417608353560751, -0.008553087687033535, -0.018991114517733755, 0.008949916784369138, -0.010119146638670745, -0.026105696261264442, 0.03245496368127924, 0.01940211648196959, 0.02559548795401728, -0.01177732549986917, 0.009502643692316994, -0.05464905857414343, -0.010076628969292624, -0.01114665061793776, 0.0017414427080074588, -0.004861158305006285, 0.005431600365256858, 0.028685087256591007, 0.0023880617159556645, 0.0029655902096563528, -0.008184603392175822, -0.005715049787019615, -0.02154215977925986, -0.0022357078205603987, -0.0053253071231341275, -0.001814076671810677, 0.015674754932691763, -0.0047088041767803755, -0.03951285768249929, 0.023526307128583022, -0.006515794880802224, 0.012748139874180404, -0.008772761536051683, -0.015773963138348238, 0.004078129294848965, -0.0030541680666457236, 0.01243634518427847, -0.006547682900005171, 0.014611820648819317, -0.0006045445899066816, -0.03673505027585978, 0.008453880412699634, -0.018395870871730353, 0.01621330897373939, -0.011231685025371429, -0.021910645005440144, 0.01344259079451771, 0.002561674678870634, -0.0081420857227977, 0.011798583868896944, 0.00046902030456734124, 0.002953189183949294, -0.009927817592130487, -0.01578813600524847, -0.0009539846187361563, 0.011571824517751253, -0.033191934133639814, 0.029592124661173776, 0.03840740386660358, -0.005296961854994952, -0.011394669269433798, -0.030867647291936827, -0.018523422948542142, 0.009530988494794885, -0.02072015585078819, 0.03407062580442211, -0.015844825610204248, -0.027296183553271253, -0.040504928563193154, 0.003241953430799638, 0.022775165671967364, -0.01965722063559317, 0.04090175766052876, 0.023271201112314295, -0.012110378558798877, 0.003516545043580394, -0.0103955091613221, -0.18163442560089083, -0.0015846596752905492, 0.023384582184870998, -0.03151958054289601, 0.0021896471672878627, 0.016468414990008114, 0.02036584535415328, 0.004049784492371075, -0.023356236451070538, 0.012733967938602745, 0.03106606184060463, 0.002588248105816638, -0.01965722063559317, -0.018466733343586363, -0.02558131508711705, 0.012578070127990492, -0.01940211648196959, 0.0021985049762698644, 0.013633919841057968, 0.019898153784961667, 0.011054529777053974, 0.025085277784124973, -0.007061434889638678, 0.0034421395878299686, -0.0012755226307630519, 0.02036584535415328, 0.006416587606468322, 0.015405478843490524, -0.017573866943258683, -0.003443911196192497, -0.001227690485543309, -0.016369206784351643, 0.009183762568964944, 0.011515134912795473, 0.0351193881527169, 0.008581432489511424, -0.027211150077160153, -0.029251985168793952, -0.012776484676658293, 0.007312996292198488, -0.0019026546452153691, 0.004435984405192791, 0.002327828894274827, -0.0004973652525643831, -0.0020550086570259567, 0.0020426078641495407, -0.006813416703803926, 0.02475931115864538, 0.004124189715290858, 0.0013880166185699548, 0.0007444977506331922, -0.016794381615487707, 0.033191934133639814, -0.012663105466746734, 0.008397190807743853, 0.020961089000156686, 0.0006200456974175232, 0.005367824326850962, 0.002062094857645429, -0.0051020905230522075, 0.006685864626992135, -0.02002570586177346, 0.021570505513060324, -0.016978623297255278, -0.00039483627075840135, -0.004988710847479361, -0.02913860595888239, 0.010508889302556232, -0.039201062061274786, 0.020705984846533104, -0.0030116506300982455, -0.002241022412817342, 0.004506846411387516, -0.03531780456402985, 0.01826831879491856, 0.009821523884346471, 0.0009956163093100307, 0.012039516086942866, 0.0023331434865317704, -0.015731446400292688, -0.019869808051161206, 0.03330531334355137, -0.01595820482011581, 0.013747299050969526, 0.010763993456179814, -0.005304048288445067, 0.0013437276900752694, -0.01591568808206026, 0.005768196640911624, 0.0011488561253018826, 0.01397405933343779, -0.043339423712143305, 0.03185972189792098, -0.034637525579270204, 0.027367046025127264, -0.01635503391745141, -0.00479029629881156, 0.021811436799783673, -0.031349509865383526, -0.007150012979458692, -0.018693493626054627, 0.0013454991820224767, 0.004340319881922663, 0.01706365863601152, 0.012670191900196848, 0.012641846166396386, 0.00690199479362394, 0.003737990035299785, 0.04538026066642224, -0.022803509543122682, -0.020918570399455994, -0.01621330897373939, 0.0169219336922995, 0.03418400501433368, 0.028515016579078525, 0.012620587797368613, 0.004970995229515359, -0.018353354133674803, 0.023271201112314295, -0.017616385543959376, 0.055102579139079955, 0.008843624007907693, 0.015674754932691763, -0.009027865689675264, 0.011118305815459868, -0.013492194897345945, -0.08713237171451342, -0.052778292297376975, 0.002561674678870634, 0.014852751935542667, -0.014285853092017152, 0.014966132076776799, 0.01499447687925469, 0.017772281491926483, -0.0009327259004624174, 0.005428057614193086, -0.00022055911477855062, -0.022264955502075055, -0.000430931772510864, 0.0025793902968346367, 0.010728562220251809, -0.022888544881878924, 0.00033615337356413346, -0.017318762789635102, 0.011465530809967235, 0.020776845455743972, 0.003516545043580394, 0.00670712299601991, -0.013251262679300022, -0.021953161743495694, 0.01748883160450244, -0.010218353913004645, -0.028685087256591007, 0.00025355440375999404, 0.031888063906431154, 0.015589721456580666, -0.018551768682342606, -0.0450968107789982, -0.025524625482161268, -0.025071106779869887, -0.007341341560337664, -0.0007493695572148251, -0.03818064544678046, 0.00911998653055905, 0.017318762789635102, -0.03378717591699807, 0.007936585672002354, -0.0026555673609475914, 0.005226099848800227, -0.007780687861390102, -0.03353207176337449, -0.018920252045877745, -0.021031951472012696, 0.012663105466746734, 0.04742109762070118, -0.012705622204802283, -0.038095608245379074, 0.010019938433014273, -0.026587560697356287, 0.021202020286880036, 0.028642568655890314, -0.011444272440939462, 0.006069361680638384, 0.011252944325721775, -0.0031268019140336203, -0.008581432489511424, 0.013598488605129962, 0.006033930444710379, -0.018906079178977516, 0.00674964066539803, 0.004563536482004582, 0.009864041553724591, 0.015334616371634512, -0.00697285726547995, 0.02753711670263975, -0.014796062330586888, 0.000802959196782144, 0.01826831879491856, -0.022874372014978692, -0.010197094612654299, -0.039456166214898364, 0.0030027928211162442, -0.015150374689866943, -0.03185972189792098, -0.007553928510244411, -0.039938032513635355, -0.0023898333243181935, -0.019883980918061435, 0.015660583928436677, -0.011734807830491049, 0.03398559232831102, -0.01933125401011358, -0.02261926786135511, 0.011260030759171891, 0.0028238652659443313, -0.011167908986965534, 0.015362961174112403, 0.04036320361948113, 0.013718954248491637, -0.02052174130212039, 0.011196253789443424, 0.004432441188467734, -0.02566635042587329, 0.011635600556157148, 0.021740574327927663, -0.0002575404061603625, -0.009807351948768812, -0.01819745632306255, -0.07766515739547929, 0.007419289999982504, 0.005498919620387811, -0.0031516037326170952, 0.005984326807543428, -0.002175474766048918, 0.016950277563454817, -0.0026980845646644262, -0.010310474753888431, 0.025000244308013876, -0.008886140745963242, 0.01393154166405967, 0.017772281491926483, 0.005899291934448472, -0.023795584149106833, -0.011012012107675852, 0.004591881284482472, -0.003032909464787306, 0.027111941871503682, 0.03497766320900488, -0.010678959048746144, -0.004758407813947326, 0.026162385866220224, 0.02072015585078819, 0.006033930444710379, 0.03784050409175549, -0.009956162394608377, 0.005523721671801929, -0.04730771841078962, 0.005187125396147164, 0.010175836243626526, -0.004786753082086502, -0.018934424912777977, 0.011954481679509197, -0.0006762927495286354, -0.010693130984323803, 0.009375091615505203, 0.01293946798939809, -0.01328669391522803, 0.01621330897373939, -0.030640888872113706, -0.013995317702465565, 0.000229416923760552, 0.005722136220469731, -0.008163345023148047, 0.0005000226069005157, -0.014640165451297206, 0.010034111299914503, 0.014895269604920788, -0.002758317619175907, 0.02894019141021459, 0.008383017940843623, -0.006462648026910215, -0.020323326753452588, -0.0201957746766408, -0.018523422948542142, 0.02885515607145835, 0.00046016249558533987, 0.0014482496730814354, -0.02451837987192203, 0.008949916784369138, 0.022959407353734935, 0.018679320759154395, 0.008071224182264261, 0.022194093030219044, -0.0034687130147759726, -0.0004420040337383657, 0.0150653393511107, -0.019529668558781382, -0.05039731771336335, -0.03024405791213296, -0.012861520015414536, 0.017290417055834638, 0.029081916353926613, 0.011692291092435499, 0.01809824811740608, 0.0012569212086177848, -0.03268172582639265, -0.028217395687399394, 0.03934278700498681, -0.00011094389597330846, -0.01680855448238794, -0.03344703828726339, -0.004134819365466031, 0.010820683992458167, -0.0038442835102531583, 0.0035023726423414493, 0.00015877599026134834, 0.007355513961576608, 0.024376654928210006, 0.019912324789216753, 0.0020957544852109058, 0.004924934809073466, -0.030102334831066082, 0.02674345850796854, 0.02072015585078819, 0.007553928510244411, -0.015802308872148698, 0.021641367984916334, 0.013527626133273952, -0.00921919380489295, -0.0009885299922752365, -0.006774442251150863, -0.016723519143631696, -0.016936106559199728, 0.018778527102165724, -0.0384640953342045, -0.009771920712840807, -0.005328849874197899, -0.020762674451488886, -0.003486428632739975, 0.00231188465184271, 0.0009150103407060754, 0.0342406964819346, -0.01181984316924729, 0.019288737272058033, 0.006211086624350406, -0.02793394579997535, -0.019855635184260974, 0.003477570823757974, 0.008042878448463799, 0.009715231107885027, 0.014264594722989379, -0.014555130112540966, -0.000969928686545291, 0.024064861169630646, 0.01826831879491856, -0.04342446091354469, 0.004942649961376183, -0.03392890086071009, -0.018041558512450297, 0.0063953287717792625, -0.0010381337458575085, 0.001642235433673558, -0.035261113096428924, 0.007355513961576608, -0.011281289128199666, 0.023795584149106833, -0.003656498146099244, 0.07488734998883978, -0.009771920712840807, 0.014753544661208767, -0.010055369668942278, 0.0009628424277181578, 0.014137042646177588, 0.023228684374258745, -0.008220034628103827, -0.01958635816373716, 0.009460126022938872, -0.014796062330586888, -0.01495196014119914, 0.05022724703585087, -0.007022460902646901, -0.008290897099959837, 0.03166130548660803, -0.023242857241158977, 0.03330531334355137, -0.03594139208118857, -0.00853182931800576, -0.0030081076462038308, 0.034694217046871124, 0.0032596690487636405, -0.0057965419090508, -0.012563898192412833, 0.009807351948768812, 0.03191640964023162, 0.006218172592139235, 0.011472617243417351, -0.026346629410632937, 0.006278405879481358, 0.016907760825399267, -0.006547682900005171, -0.04350949438965578, 0.040788378450617196, -0.04149700316917731, 0.0021081555109179646, 0.00745472123591051, 0.03653663758983712, 0.02592145457949687, -0.023058615559391406, -0.005523721671801929, -0.006622088122924954, -0.016595967066819907, 0.021669711856071652, -0.04152534890297777, -0.03123613251811711, -0.024447517400066017, -0.027196977210259925]\n"
          ]
        }
      ]
    },
    {
      "cell_type": "code",
      "source": [
        "sen1 = embeddings.embed_query(\"mary's sister is tom\")\n",
        "sen2 = embeddings.embed_query(\"hello this is a car\")"
      ],
      "metadata": {
        "id": "qPZ9wnwKdHqd"
      },
      "execution_count": null,
      "outputs": []
    },
    {
      "cell_type": "code",
      "source": [
        "from sklearn.metrics.pairwise import cosine_similarity\n",
        "\n",
        "q1 = cosine_similarity([embedded_query],[sen1])\n",
        "q2 = cosine_similarity([embedded_query],[sen2])\n",
        "\n",
        "\n",
        "q1, q2"
      ],
      "metadata": {
        "colab": {
          "base_uri": "https://localhost:8080/"
        },
        "id": "AT3vt5M6dHoA",
        "outputId": "ba8115d2-b99f-4632-84e4-792cb00e5bd9"
      },
      "execution_count": null,
      "outputs": [
        {
          "output_type": "execute_result",
          "data": {
            "text/plain": [
              "(array([[0.83888601]]), array([[0.71324129]]))"
            ]
          },
          "metadata": {},
          "execution_count": 15
        }
      ]
    },
    {
      "cell_type": "code",
      "source": [
        "from langchain_community.vectorstores import DocArrayInMemorySearch\n",
        "\n",
        "vecstore1 = DocArrayInMemorySearch.from_texts(['hello this is tom',\n",
        "                                    'merc is a good car',\n",
        "                                    'iphones are overrated',\n",
        "                                    'marys sister is yonda'],\n",
        "                                   embedding=embeddings)\n"
      ],
      "metadata": {
        "id": "X6mu-kcTkbxR"
      },
      "execution_count": null,
      "outputs": []
    },
    {
      "cell_type": "code",
      "source": [
        "vecstore1.similarity_search_with_score(query=\"who is marys sister?\")"
      ],
      "metadata": {
        "colab": {
          "base_uri": "https://localhost:8080/"
        },
        "id": "kLnYGEPTms4_",
        "outputId": "1301b530-e65c-4c56-adb3-12b96c667902"
      },
      "execution_count": null,
      "outputs": [
        {
          "output_type": "execute_result",
          "data": {
            "text/plain": [
              "[(Document(page_content='marys sister is yonda'), 0.8764121700174807),\n",
              " (Document(page_content='hello this is tom'), 0.7220363365429516),\n",
              " (Document(page_content='merc is a good car'), 0.6973480388108557),\n",
              " (Document(page_content='iphones are overrated'), 0.6765176565295835)]"
            ]
          },
          "metadata": {},
          "execution_count": 17
        }
      ]
    },
    {
      "cell_type": "code",
      "source": [
        "retriever1 = vecstore1.as_retriever()\n",
        "retriever1.invoke(\"what is a merc?\")"
      ],
      "metadata": {
        "id": "a1cVeIh6kbr3",
        "colab": {
          "base_uri": "https://localhost:8080/"
        },
        "outputId": "472eae34-7ea5-4911-b58a-f2bd5939042b"
      },
      "execution_count": null,
      "outputs": [
        {
          "output_type": "execute_result",
          "data": {
            "text/plain": [
              "[Document(page_content='merc is a good car'),\n",
              " Document(page_content='marys sister is yonda'),\n",
              " Document(page_content='iphones are overrated'),\n",
              " Document(page_content='hello this is tom')]"
            ]
          },
          "metadata": {},
          "execution_count": 18
        }
      ]
    },
    {
      "cell_type": "code",
      "source": [
        "from langchain_core.runnables import RunnableParallel, RunnablePassthrough\n",
        "setup = RunnableParallel(context=retriever1,question=RunnablePassthrough())\n",
        "setup.invoke(\"what phone is not good?\")"
      ],
      "metadata": {
        "id": "KqNZp1Yxkbpu",
        "colab": {
          "base_uri": "https://localhost:8080/"
        },
        "outputId": "3463a829-3646-4c95-d2f9-fc531100407e"
      },
      "execution_count": null,
      "outputs": [
        {
          "output_type": "execute_result",
          "data": {
            "text/plain": [
              "{'context': [Document(page_content='iphones are overrated'),\n",
              "  Document(page_content='merc is a good car'),\n",
              "  Document(page_content='hello this is tom'),\n",
              "  Document(page_content='marys sister is yonda')],\n",
              " 'question': 'what phone is not good?'}"
            ]
          },
          "metadata": {},
          "execution_count": 20
        }
      ]
    },
    {
      "cell_type": "code",
      "source": [
        "chain = setup | prompt | llm |parser\n",
        "chain.invoke(\"which car is good?\")"
      ],
      "metadata": {
        "id": "HC1_LPrWkbnX",
        "colab": {
          "base_uri": "https://localhost:8080/",
          "height": 35
        },
        "outputId": "4e372973-a45b-4f98-f160-ea53156a6eb7"
      },
      "execution_count": null,
      "outputs": [
        {
          "output_type": "execute_result",
          "data": {
            "text/plain": [
              "'merc'"
            ],
            "application/vnd.google.colaboratory.intrinsic+json": {
              "type": "string"
            }
          },
          "metadata": {},
          "execution_count": 21
        }
      ]
    },
    {
      "cell_type": "markdown",
      "source": [
        "#now with this pipeline you can Q and A with the a YT video\n"
      ],
      "metadata": {
        "id": "5kFxZ15kv78E"
      }
    },
    {
      "cell_type": "code",
      "source": [
        "vectorstore2 = DocArrayInMemorySearch.from_documents(documents,embedding=embeddings)\n",
        "\n",
        "chain = ({\"context\":vectorstore2.as_retriever(),\"question\":RunnablePassthrough()} | prompt | llm | parser)\n",
        "chain.invoke(\"what is wors thing for my channels success?\")"
      ],
      "metadata": {
        "id": "zG9KnmbEkbkx",
        "colab": {
          "base_uri": "https://localhost:8080/",
          "height": 52
        },
        "outputId": "371cd6e5-e145-4d3f-894c-1c93eeec6bea"
      },
      "execution_count": null,
      "outputs": [
        {
          "output_type": "execute_result",
          "data": {
            "text/plain": [
              "\"The worst thing for your channel's success is when people try to copy or replicate a successful YouTube channel, as it is not likely to work.\""
            ],
            "application/vnd.google.colaboratory.intrinsic+json": {
              "type": "string"
            }
          },
          "metadata": {},
          "execution_count": 28
        }
      ]
    }
  ]
}